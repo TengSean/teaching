{
 "cells": [
  {
   "cell_type": "code",
   "execution_count": 2,
   "metadata": {
    "ExecuteTime": {
     "end_time": "2020-05-29T10:29:35.954576Z",
     "start_time": "2020-05-29T10:29:35.948508Z"
    }
   },
   "outputs": [
    {
     "name": "stdout",
     "output_type": "stream",
     "text": [
      "[1, 4, 9, 16, 25, 36, 49, 64, 81]\n"
     ]
    }
   ],
   "source": [
    "tmp = []\n",
    "for i in range(1, 10):\n",
    "    tmp.append(i**2)\n",
    "print(tmp)"
   ]
  },
  {
   "cell_type": "code",
   "execution_count": 5,
   "metadata": {
    "ExecuteTime": {
     "end_time": "2020-05-29T10:31:02.346889Z",
     "start_time": "2020-05-29T10:31:02.338983Z"
    }
   },
   "outputs": [
    {
     "name": "stdout",
     "output_type": "stream",
     "text": [
      "[3, 7, 9, 11, 13, 17]\n"
     ]
    }
   ],
   "source": [
    "numbers = [2, 3, 4,6,7, 8,9,11,13,17,20]\n",
    "odds = []\n",
    "for i in numbers:\n",
    "    if i % 2 ==1:\n",
    "        odds.append(i)\n",
    "print(odds)"
   ]
  },
  {
   "cell_type": "code",
   "execution_count": 6,
   "metadata": {
    "ExecuteTime": {
     "end_time": "2020-05-29T10:31:49.055541Z",
     "start_time": "2020-05-29T10:31:49.048882Z"
    }
   },
   "outputs": [
    {
     "name": "stdout",
     "output_type": "stream",
     "text": [
      "['DW', 'Da', 'Dd', 'De', 'wW', 'wa', 'wd', 'we', 'yW', 'ya', 'yd', 'ye', 'aW', 'aa', 'ad', 'ae', 'nW', 'na', 'nd', 'ne', 'eW', 'ea', 'ed', 'ee']\n"
     ]
    }
   ],
   "source": [
    "com = []\n",
    "for letter1 in 'Dwyane':\n",
    "    for letter2 in 'Wade':\n",
    "        com.append(letter1 + letter2)\n",
    "print(com)"
   ]
  },
  {
   "cell_type": "code",
   "execution_count": 15,
   "metadata": {
    "ExecuteTime": {
     "end_time": "2020-05-29T10:37:11.822175Z",
     "start_time": "2020-05-29T10:37:11.806630Z"
    }
   },
   "outputs": [
    {
     "name": "stdout",
     "output_type": "stream",
     "text": [
      "list1: 139806180797008 \n",
      "list2: 139806180797008\n",
      "After pop by list2\n",
      "引用: [1, 2, 3, 4, 5]\n",
      "\n",
      "list1: 139806180797008 \n",
      "list2: 139806180792272\n",
      "After pop by list2\n",
      "拷貝：[1, 2, 3, 4, 5, 6]\n"
     ]
    }
   ],
   "source": [
    "list1 = [1, 2, 3, 4, 5, 6]\n",
    "\n",
    "list2 = list1\n",
    "list2.pop()\n",
    "print(f'list1: {id(list1)} \\nlist2: {id(list2)}')\n",
    "print(f'After pop by list2')\n",
    "    print(f'引用: {list1}')\n",
    "    print()\n",
    "list1.append(6)\n",
    "list2 = list1.copy()\n",
    "list2.pop()\n",
    "print(f'list1: {id(list1)} \\nlist2: {id(list2)}')\n",
    "print(f'After pop by list2')\n",
    "print(f'拷貝：{list1}')\n",
    "\n"
   ]
  },
  {
   "cell_type": "code",
   "execution_count": null,
   "metadata": {},
   "outputs": [],
   "source": [
    "def getsquare(y):\n",
    "    return x(y)\n",
    "\n",
    "def x(y):\n",
    "    return y**2\n",
    "\n",
    "getsquare(2)\n"
   ]
  }
 ],
 "metadata": {
  "kernelspec": {
   "display_name": "Python 3",
   "language": "python",
   "name": "python3"
  },
  "language_info": {
   "codemirror_mode": {
    "name": "ipython",
    "version": 3
   },
   "file_extension": ".py",
   "mimetype": "text/x-python",
   "name": "python",
   "nbconvert_exporter": "python",
   "pygments_lexer": "ipython3",
   "version": "3.7.4"
  },
  "nbTranslate": {
   "displayLangs": [
    "*"
   ],
   "hotkey": "alt-t",
   "langInMainMenu": true,
   "sourceLang": "en",
   "targetLang": "fr",
   "useGoogleTranslate": true
  },
  "toc": {
   "base_numbering": 1,
   "nav_menu": {},
   "number_sections": true,
   "sideBar": true,
   "skip_h1_title": false,
   "title_cell": "Table of Contents",
   "title_sidebar": "Contents",
   "toc_cell": false,
   "toc_position": {},
   "toc_section_display": true,
   "toc_window_display": false
  },
  "varInspector": {
   "cols": {
    "lenName": 16,
    "lenType": 16,
    "lenVar": 40
   },
   "kernels_config": {
    "python": {
     "delete_cmd_postfix": "",
     "delete_cmd_prefix": "del ",
     "library": "var_list.py",
     "varRefreshCmd": "print(var_dic_list())"
    },
    "r": {
     "delete_cmd_postfix": ") ",
     "delete_cmd_prefix": "rm(",
     "library": "var_list.r",
     "varRefreshCmd": "cat(var_dic_list()) "
    }
   },
   "types_to_exclude": [
    "module",
    "function",
    "builtin_function_or_method",
    "instance",
    "_Feature"
   ],
   "window_display": false
  }
 },
 "nbformat": 4,
 "nbformat_minor": 2
}
