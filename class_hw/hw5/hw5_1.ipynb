{
 "cells": [
  {
   "cell_type": "markdown",
   "metadata": {},
   "source": [
    "# <div align='center'>HW5</div>"
   ]
  },
  {
   "cell_type": "markdown",
   "metadata": {},
   "source": [
    "## Read pickle"
   ]
  },
  {
   "cell_type": "code",
   "execution_count": 1,
   "metadata": {
    "ExecuteTime": {
     "end_time": "2020-04-20T10:32:21.965329Z",
     "start_time": "2020-04-20T10:32:20.738647Z"
    }
   },
   "outputs": [
    {
     "name": "stdout",
     "output_type": "stream",
     "text": [
      "[-0.0, -0.03, -0.04, 0.03, 0.08, 0.01, 0.02, 0.09, -0.0, 0.18]\n",
      "[-0.01, 0.09, -0.01, 0.02, -0.08, 0.01, 0.01, 0.07, -0.07, 0.0]\n"
     ]
    }
   ],
   "source": [
    "import os\n",
    "import pickle\n",
    "from collections import Counter\n",
    "import matplotlib.pyplot as plt\n",
    "import pandas as pd\n",
    "import numpy as np\n",
    "\n",
    "\n",
    "DIR = '../hw4_1'\n",
    "priceList = os.listdir(DIR)\n",
    "# print(priceList)\n",
    "\n",
    "bullPickle = ['bullish_return.pickle', 'bullishList']\n",
    "bearPickle = ['bearish_return.pickle', 'bearishList']\n",
    "readPickle = {\n",
    "    'bullishPickle':bullPickle,\n",
    "    'bearishPickle':bearPickle,\n",
    "}\n",
    "plotDict = {\n",
    "    'bullishList':[],\n",
    "    'bearishList':[],\n",
    "    'allList':    []\n",
    "}\n",
    "\n",
    "INFOmsg = '[INFO] {} doesn\\'t exist'\n",
    "lock = False\n",
    "for k, v in readPickle.items():\n",
    "    if v[0] not in priceList:\n",
    "        print(INFOmsg.format(v[0]))\n",
    "        lock = True\n",
    "    else:\n",
    "        current = v[1]\n",
    "        pickleDIR = os.path.join(DIR, v[0])\n",
    "        with open(pickleDIR, 'rb') as f:\n",
    "            plotDict[current] = pickle.load(f)\n",
    "        plotDict[current] = [ round(b, 2) for b in plotDict[current]]\n",
    "        print(plotDict[current][:10])\n",
    "if lock:\n",
    "    print('Exiting the program...')\n",
    "    exit(0)"
   ]
  },
  {
   "cell_type": "code",
   "execution_count": 2,
   "metadata": {
    "ExecuteTime": {
     "end_time": "2020-04-20T10:32:21.994762Z",
     "start_time": "2020-04-20T10:32:21.985470Z"
    }
   },
   "outputs": [],
   "source": [
    "def filt(tmpList):\n",
    "    tmpDict = Counter(tmpList)\n",
    "    delList = [k for k, v in tmpDict.items() if v < 5]\n",
    "    resultList = [l for l in tmpList if l not in delList]\n",
    "    return resultList"
   ]
  },
  {
   "cell_type": "code",
   "execution_count": 3,
   "metadata": {
    "ExecuteTime": {
     "end_time": "2020-04-20T10:32:22.045295Z",
     "start_time": "2020-04-20T10:32:22.019924Z"
    }
   },
   "outputs": [
    {
     "name": "stdout",
     "output_type": "stream",
     "text": [
      "2818\n",
      "2823\n",
      "5641\n"
     ]
    }
   ],
   "source": [
    "plotDict['bearishList'] = filt(plotDict['bearishList'])\n",
    "plotDict['bullishList'] = filt(plotDict['bullishList'])\n",
    "plotDict['allList'].extend(plotDict['bullishList'])\n",
    "plotDict['allList'].extend(plotDict['bearishList'])\n",
    "print(len(plotDict['bullishList']))\n",
    "print(len(plotDict['bearishList']))\n",
    "print(len(plotDict['allList']))\n",
    "# print(a, b)"
   ]
  },
  {
   "cell_type": "code",
   "execution_count": 9,
   "metadata": {
    "ExecuteTime": {
     "end_time": "2020-04-20T10:35:35.563476Z",
     "start_time": "2020-04-20T10:35:34.608451Z"
    }
   },
   "outputs": [
    {
     "data": {
      "image/png": "[encoded data removed]",
      "text/plain": [
       "<Figure size 720x720 with 1 Axes>"
      ]
     },
     "metadata": {
      "needs_background": "light"
     },
     "output_type": "display_data"
    },
    {
     "data": {
      "image/png": "[encoded data removed]",
      "text/plain": [
       "<Figure size 720x720 with 1 Axes>"
      ]
     },
     "metadata": {
      "needs_background": "light"
     },
     "output_type": "display_data"
    },
    {
     "data": {
      "image/png": "[encoded data removed]",
      "text/plain": [
       "<Figure size 720x720 with 1 Axes>"
      ]
     },
     "metadata": {
      "needs_background": "light"
     },
     "output_type": "display_data"
    },
    {
     "data": {
      "text/plain": [
       "<Figure size 432x288 with 0 Axes>"
      ]
     },
     "metadata": {},
     "output_type": "display_data"
    }
   ],
   "source": [
    "bins = 25\n",
    "plt.figure(figsize = (10,10))\n",
    "plt.subplot(3,1,1)\n",
    "plt.hist(plotDict['allList'], bins = bins)\n",
    "plt.title('Result')\n",
    "plt.show()\n",
    "\n",
    "plt.figure(figsize = (10,10))\n",
    "plt.subplot(3,1,2)\n",
    "plt.hist(plotDict['bullishList'], bins = bins)\n",
    "plt.show()\n",
    "\n",
    "plt.figure(figsize = (10,10))\n",
    "plt.subplot(3,1,3)\n",
    "plt.hist(plotDict['bearishList'], bins = bins)\n",
    "plt.title('bearishList result')\n",
    "plt.show()\n",
    "plt.savefig('./bear_bullish_hist.png')"
   ]
  },
  {
   "cell_type": "raw",
   "metadata": {},
   "source": []
  },
  {
   "cell_type": "code",
   "execution_count": 38,
   "metadata": {
    "ExecuteTime": {
     "end_time": "2020-04-20T10:53:39.650053Z",
     "start_time": "2020-04-20T10:53:39.635724Z"
    }
   },
   "outputs": [
    {
     "name": "stdout",
     "output_type": "stream",
     "text": [
      "49\n",
      "55\n",
      "55\n"
     ]
    }
   ],
   "source": [
    "bear = Counter(plotDict['bearishList'])\n",
    "bull = Counter(plotDict['bullishList'])\n",
    "All = plotDict['bullishList']\n",
    "All.extend(plotDict['bearishList'])\n",
    "All = Counter(All)\n",
    "print(len(bear))\n",
    "print(len(bull))\n",
    "print(len(All))\n",
    "xBull = list(bull.keys())\n",
    "xBull.sort()\n",
    "yBull = [bull[x] for x in xBull]\n",
    "# print(xBull, yBull)\n",
    "\n",
    "\n",
    "xBear = list(bear.keys())\n",
    "xBear.sort()\n",
    "yBear = [bear[x] for x in xBear]\n",
    "# print(xBear, yBear)\n",
    "# print()\n",
    "\n",
    "xAll = list(All.keys())\n",
    "xAll.sort()\n",
    "yAll = [All[x] for x in xAll]"
   ]
  },
  {
   "cell_type": "code",
   "execution_count": 39,
   "metadata": {
    "ExecuteTime": {
     "end_time": "2020-04-20T10:54:23.666166Z",
     "start_time": "2020-04-20T10:54:22.453755Z"
    }
   },
   "outputs": [
    {
     "data": {
      "image/png": "[encoded data removed]",
      "text/plain": [
       "<Figure size 720x720 with 1 Axes>"
      ]
     },
     "metadata": {
      "needs_background": "light"
     },
     "output_type": "display_data"
    },
    {
     "data": {
      "image/png": "[encoded data removed]",
      "text/plain": [
       "<Figure size 720x720 with 1 Axes>"
      ]
     },
     "metadata": {
      "needs_background": "light"
     },
     "output_type": "display_data"
    },
    {
     "data": {
      "image/png": "[encoded data removed]",
      "text/plain": [
       "<Figure size 720x720 with 1 Axes>"
      ]
     },
     "metadata": {
      "needs_background": "light"
     },
     "output_type": "display_data"
    }
   ],
   "source": [
    "plt.figure(figsize=(10,10))\n",
    "plt.subplot(3, 1, 1)\n",
    "plt.bar(xAll, yAll, width = 0.07, align='center')\n",
    "plt.xlim(-1, 1)\n",
    "plt.title('Result')\n",
    "plt.show()\n",
    "\n",
    "\n",
    "plt.figure(figsize=(10,10))\n",
    "plt.subplot(3, 1, 1)\n",
    "plt.bar(xBull, yBull, width = 0.07, align='center')\n",
    "plt.xlim(-1, 1)\n",
    "plt.title('bullish Result')\n",
    "plt.show()\n",
    "\n",
    "plt.figure(figsize=(10,10))\n",
    "plt.subplot(3, 1, 2)\n",
    "plt.bar(xBear, yBear,  width = 0.07, align='center')\n",
    "plt.xlim(-1, 1)\n",
    "plt.title('Bearish Result')\n",
    "plt.show()\n",
    "\n",
    "# plt.subplot(3, 1, 1)\n",
    "# plt.show()"
   ]
  },
  {
   "cell_type": "code",
   "execution_count": null,
   "metadata": {},
   "outputs": [],
   "source": []
  },
  {
   "cell_type": "code",
   "execution_count": null,
   "metadata": {},
   "outputs": [],
   "source": []
  },
  {
   "cell_type": "code",
   "execution_count": 40,
   "metadata": {
    "ExecuteTime": {
     "end_time": "2020-04-20T10:58:00.675470Z",
     "start_time": "2020-04-20T10:58:00.668503Z"
    }
   },
   "outputs": [],
   "source": [
    "np.random.seed(10)\n",
    "collectn_1 = np.random.normal(100, 10, 200)\n",
    "collectn_2 = np.random.normal(80, 30, 200)\n",
    "collectn_3 = np.random.normal(90, 20, 200)\n",
    "collectn_4 = np.random.normal(70, 25, 200)"
   ]
  },
  {
   "cell_type": "code",
   "execution_count": 44,
   "metadata": {
    "ExecuteTime": {
     "end_time": "2020-04-20T10:58:59.489674Z",
     "start_time": "2020-04-20T10:58:59.483132Z"
    }
   },
   "outputs": [
    {
     "name": "stdout",
     "output_type": "stream",
     "text": [
      "(200,)\n"
     ]
    }
   ],
   "source": [
    "print(collectn_1.shape)"
   ]
  },
  {
   "cell_type": "code",
   "execution_count": 42,
   "metadata": {
    "ExecuteTime": {
     "end_time": "2020-04-20T10:58:32.662145Z",
     "start_time": "2020-04-20T10:58:32.403535Z"
    }
   },
   "outputs": [
    {
     "data": {
      "image/png": "[encoded data removed]",
      "text/plain": [
       "<Figure size 432x288 with 1 Axes>"
      ]
     },
     "metadata": {
      "needs_background": "light"
     },
     "output_type": "display_data"
    }
   ],
   "source": [
    "data_to_plot = [\n",
    "    collectn_1, \n",
    "    collectn_2, \n",
    "    collectn_3, \n",
    "    collectn_4\n",
    "]\n",
    "\n",
    "fig = plt.figure()\n",
    "# Create an axes instance\n",
    "ax = fig.add_axes([0,0,1,1])\n",
    "# Create the boxplot\n",
    "bp = ax.boxplot(data_to_plot)\n",
    "plt.show()"
   ]
  },
  {
   "cell_type": "code",
   "execution_count": 46,
   "metadata": {
    "ExecuteTime": {
     "end_time": "2020-04-20T11:00:36.503773Z",
     "start_time": "2020-04-20T11:00:36.493454Z"
    }
   },
   "outputs": [
    {
     "name": "stdout",
     "output_type": "stream",
     "text": [
      "[ 70.03673039  74.27508094  70.92800107  56.67455225  97.77853328\n",
      "  70.6334846   24.79157587  15.78833509  69.76985214  71.99566667\n",
      "  25.77444303  34.15467831  96.87611677  69.45070978  46.63832593\n",
      "  70.28126954  51.1785874   92.874137    73.97692989  62.24390337\n",
      "  65.15454689  39.68076115  54.32393949  79.98995282  72.15447266\n",
      "  29.53639811  16.09458806  20.61255148  13.43253868  48.06050174\n",
      "  34.25218134  36.29692901  97.29176387  11.09436116  38.82640891\n",
      "  78.30658753  97.28972601  48.32096053  33.64211054  56.74190362\n",
      "   4.79415097  38.8937029   90.63036451  16.10182093  74.36211347\n",
      "  63.29741618  32.41800177  92.23765324  23.72264387  82.39455709\n",
      "  50.          50.          50.          50.          50.\n",
      "  50.          50.          50.          50.          50.\n",
      "  50.          50.          50.          50.          50.\n",
      "  50.          50.          50.          50.          50.\n",
      "  50.          50.          50.          50.          50.\n",
      " 175.06071403 111.37844527 184.53612452 192.3932129  122.08367918\n",
      " 193.3053876  148.89987436 147.47186402 108.91674722 122.9948178\n",
      " -71.59374101 -49.6126162  -76.64893785 -89.67973224 -77.22230183\n",
      " -92.71742883 -61.46520272 -60.90637692 -68.46848657 -25.10129674]\n"
     ]
    }
   ],
   "source": [
    "np.random.seed(19680801)\n",
    "\n",
    "# fake up some data\n",
    "spread = np.random.rand(50) * 100\n",
    "center = np.ones(25) * 50\n",
    "flier_high = np.random.rand(10) * 100 + 100\n",
    "flier_low = np.random.rand(10) * -100\n",
    "data = np.concatenate((spread, center, flier_high, flier_low))\n",
    "print(data)"
   ]
  },
  {
   "cell_type": "code",
   "execution_count": null,
   "metadata": {},
   "outputs": [],
   "source": []
  }
 ],
 "metadata": {
  "kernelspec": {
   "display_name": "Python 3",
   "language": "python",
   "name": "python3"
  },
  "language_info": {
   "codemirror_mode": {
    "name": "ipython",
    "version": 3
   },
   "file_extension": ".py",
   "mimetype": "text/x-python",
   "name": "python",
   "nbconvert_exporter": "python",
   "pygments_lexer": "ipython3",
   "version": "3.7.4"
  },
  "nbTranslate": {
   "displayLangs": [
    "*"
   ],
   "hotkey": "alt-t",
   "langInMainMenu": true,
   "sourceLang": "en",
   "targetLang": "fr",
   "useGoogleTranslate": true
  },
  "toc": {
   "base_numbering": 1,
   "nav_menu": {},
   "number_sections": true,
   "sideBar": true,
   "skip_h1_title": false,
   "title_cell": "Table of Contents",
   "title_sidebar": "Contents",
   "toc_cell": false,
   "toc_position": {},
   "toc_section_display": true,
   "toc_window_display": false
  },
  "varInspector": {
   "cols": {
    "lenName": 16,
    "lenType": 16,
    "lenVar": 40
   },
   "kernels_config": {
    "python": {
     "delete_cmd_postfix": "",
     "delete_cmd_prefix": "del ",
     "library": "var_list.py",
     "varRefreshCmd": "print(var_dic_list())"
    },
    "r": {
     "delete_cmd_postfix": ") ",
     "delete_cmd_prefix": "rm(",
     "library": "var_list.r",
     "varRefreshCmd": "cat(var_dic_list()) "
    }
   },
   "types_to_exclude": [
    "module",
    "function",
    "builtin_function_or_method",
    "instance",
    "_Feature"
   ],
   "window_display": false
  }
 },
 "nbformat": 4,
 "nbformat_minor": 2
}
