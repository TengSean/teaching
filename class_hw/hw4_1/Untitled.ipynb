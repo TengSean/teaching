{
 "cells": [
  {
   "cell_type": "code",
   "execution_count": 4,
   "metadata": {
    "ExecuteTime": {
     "end_time": "2020-04-17T10:16:59.662002Z",
     "start_time": "2020-04-17T10:16:59.649376Z"
    }
   },
   "outputs": [
    {
     "name": "stdout",
     "output_type": "stream",
     "text": [
      "2952 2952\n"
     ]
    }
   ],
   "source": [
    "import pickle\n",
    "bearish_return, bullish_return = [], []\n",
    "with open('./bearish_return.pickle', 'rb') as f:\n",
    "    bearish_return = pickle.load(f)\n",
    "\n",
    "with open('./bullish_return.pickle', 'rb') as f:\n",
    "    bullish_return = pickle.load(f)\n",
    "    \n",
    "print(len(bearish_return), len(bullish_return))\n"
   ]
  },
  {
   "cell_type": "code",
   "execution_count": 24,
   "metadata": {
    "ExecuteTime": {
     "end_time": "2020-04-17T10:34:23.055364Z",
     "start_time": "2020-04-17T10:34:23.047037Z"
    }
   },
   "outputs": [],
   "source": [
    "for bear in bearish_return:\n",
    "    if round(bear, 2) == float('nan'):\n",
    "        print(bear)\n",
    "\n",
    "# bearish_return = [round(bear, 2) for bear in bearish_return]\n",
    "# bullish_return = [round(bull, 2) for bull in bullish_return]\n",
    "# print(bearish_return[:10])\n",
    "# print(bullish_return[:10])"
   ]
  },
  {
   "cell_type": "code",
   "execution_count": 22,
   "metadata": {
    "ExecuteTime": {
     "end_time": "2020-04-17T10:32:48.190690Z",
     "start_time": "2020-04-17T10:32:48.180400Z"
    }
   },
   "outputs": [
    {
     "name": "stdout",
     "output_type": "stream",
     "text": [
      "dict_keys([-0.01, 0.09, 0.02, -0.08, 0.01, 0.07, -0.07, 0.0, 0.12, 0.04, -0.06, 0.08, -0.22, 0.14, -0.51, 0.25, 0.16, 0.11, 0.1, 0.03, 0.15, 0.24, 0.18, nan, -0.04, 0.17, -0.02, -0.03, -0.44, 0.21, -0.13, -0.21, -0.17, -0.11, -0.19, -0.12, -0.09, -0.3, -0.05, -0.25, -0.27, -0.2, 0.06, 0.05, 0.19, -0.75, -0.16, -0.1, 0.22, 0.13, nan, -0.15, -0.14, nan, 0.26, nan, -0.26, -0.23, -0.56, -0.18, -0.33, -0.36, -6.68, 0.87, -0.46, -0.39, -0.24, -0.37, 0.42, -0.45, 0.33, 0.38, -0.68, -0.41, 0.3, -0.35, -0.31, -0.42, 0.32, 0.23, 0.29, 0.2, -0.34, -0.4, -0.29, -0.54, -0.53, nan, nan, nan, nan, nan, nan, nan, nan, nan, nan, nan, nan, nan, nan, nan, nan, nan, nan, nan, nan, nan, nan, nan, nan, nan, nan, nan, -1.91, 0.63, -0.49, -0.58, -0.74, 0.27, -0.5, -0.32, -0.94, -0.6, nan, 0.46, nan, nan, nan, nan, nan, nan, nan, nan, nan, -0.87])\n",
      "dict_values([200, 58, 197, 53, 228, 70, 65, 278, 38, 130, 68, 71, 5, 23, 2, 5, 19, 37, 50, 137, 11, 5, 16, 1, 113, 13, 186, 128, 3, 7, 18, 12, 8, 36, 14, 29, 47, 1, 98, 6, 4, 15, 81, 113, 12, 1, 11, 33, 5, 19, 1, 20, 19, 1, 3, 1, 5, 6, 1, 11, 3, 4, 1, 1, 2, 2, 6, 1, 3, 1, 3, 1, 1, 2, 2, 3, 1, 1, 2, 2, 1, 2, 1, 1, 3, 2, 1, 1, 1, 1, 1, 1, 1, 1, 1, 1, 1, 1, 1, 1, 1, 1, 1, 1, 1, 1, 1, 1, 1, 1, 1, 1, 1, 1, 1, 1, 2, 1, 1, 2, 1, 1, 1, 1, 1, 1, 1, 1, 1, 1, 1, 1, 1, 1, 1, 1])\n"
     ]
    }
   ],
   "source": [
    "import matplotlib.pyplot as plt\n",
    "from collections import Counter\n",
    "k = Counter(bearish_return).keys()\n",
    "v = Counter(bearish_return).values()\n",
    "print(k)\n",
    "print(v)\n",
    "# plt.bar(a, bearish_return[:10])\n",
    "# plt.show()"
   ]
  },
  {
   "cell_type": "code",
   "execution_count": 30,
   "metadata": {
    "ExecuteTime": {
     "end_time": "2020-04-17T10:48:23.078608Z",
     "start_time": "2020-04-17T10:48:23.073455Z"
    }
   },
   "outputs": [
    {
     "name": "stdout",
     "output_type": "stream",
     "text": [
      "8888888\r",
      "132144\n"
     ]
    }
   ],
   "source": [
    "print('8888888\\r132144')"
   ]
  },
  {
   "cell_type": "code",
   "execution_count": 36,
   "metadata": {
    "ExecuteTime": {
     "end_time": "2020-04-17T11:01:59.795498Z",
     "start_time": "2020-04-17T11:01:59.788114Z"
    }
   },
   "outputs": [
    {
     "name": "stdout",
     "output_type": "stream",
     "text": [
      "abcdevwxyz\n",
      "zyxwvutsrqponmlkjihgfedcba\n"
     ]
    }
   ],
   "source": [
    "a = 'abcdefghijklmnopqrstuvwxyz'\n",
    "\n",
    "print(a[:5]+a[-5:])\n",
    "print(a[-1::-1])"
   ]
  },
  {
   "cell_type": "code",
   "execution_count": null,
   "metadata": {},
   "outputs": [],
   "source": []
  }
 ],
 "metadata": {
  "kernelspec": {
   "display_name": "Python 3",
   "language": "python",
   "name": "python3"
  },
  "language_info": {
   "codemirror_mode": {
    "name": "ipython",
    "version": 3
   },
   "file_extension": ".py",
   "mimetype": "text/x-python",
   "name": "python",
   "nbconvert_exporter": "python",
   "pygments_lexer": "ipython3",
   "version": "3.7.4"
  },
  "nbTranslate": {
   "displayLangs": [
    "*"
   ],
   "hotkey": "alt-t",
   "langInMainMenu": true,
   "sourceLang": "en",
   "targetLang": "fr",
   "useGoogleTranslate": true
  },
  "toc": {
   "base_numbering": 1,
   "nav_menu": {},
   "number_sections": true,
   "sideBar": true,
   "skip_h1_title": false,
   "title_cell": "Table of Contents",
   "title_sidebar": "Contents",
   "toc_cell": false,
   "toc_position": {},
   "toc_section_display": true,
   "toc_window_display": false
  },
  "varInspector": {
   "cols": {
    "lenName": 16,
    "lenType": 16,
    "lenVar": 40
   },
   "kernels_config": {
    "python": {
     "delete_cmd_postfix": "",
     "delete_cmd_prefix": "del ",
     "library": "var_list.py",
     "varRefreshCmd": "print(var_dic_list())"
    },
    "r": {
     "delete_cmd_postfix": ") ",
     "delete_cmd_prefix": "rm(",
     "library": "var_list.r",
     "varRefreshCmd": "cat(var_dic_list()) "
    }
   },
   "types_to_exclude": [
    "module",
    "function",
    "builtin_function_or_method",
    "instance",
    "_Feature"
   ],
   "window_display": false
  }
 },
 "nbformat": 4,
 "nbformat_minor": 2
}
