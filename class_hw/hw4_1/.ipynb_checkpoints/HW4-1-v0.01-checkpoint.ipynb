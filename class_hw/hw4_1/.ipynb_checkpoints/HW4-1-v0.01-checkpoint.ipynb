{
 "cells": [
  {
   "cell_type": "code",
   "execution_count": 1,
   "metadata": {
    "ExecuteTime": {
     "end_time": "2020-04-17T09:52:59.176491Z",
     "start_time": "2020-04-17T09:52:58.199556Z"
    }
   },
   "outputs": [
    {
     "name": "stdout",
     "output_type": "stream",
     "text": [
      "3432\n"
     ]
    }
   ],
   "source": [
    "#!/usr/bin/env python3\n",
    "# -*- coding: utf-8 -*-\n",
    "\"\"\"\n",
    "Created on Thu Apr  9 19:52:34 2020\n",
    "\n",
    "@author: amanda\n",
    "\"\"\"\n",
    "\n",
    "import json\n",
    "import datetime\n",
    "import time\n",
    "import urllib.request, urllib.error\n",
    "\n",
    "import pandas as pd\n",
    "\n",
    "# add the following package\n",
    "from time import sleep\n",
    "from tqdm import tqdm \n",
    "\n",
    "def getPriceData(ticker, start, end):\n",
    "\n",
    "#     fp = open(\"LOG_backtest_targets_remove_delist_target.txt\",\"w+\")\n",
    "    \n",
    "    start_timeArray = time.strptime(start,\"%Y-%m-%d\")\n",
    "    start_timeStamp = int(time.mktime(start_timeArray))\n",
    "    \n",
    "#     print(start_timeStamp)\n",
    "    end_timeArray = datetime.datetime.strptime(end,\"%Y-%m-%d\")\n",
    "    end_timeArray +=datetime.timedelta(days=1)\n",
    "    end_timeStamp = int(time.mktime(end_timeArray.timetuple()))\n",
    "    \n",
    "\n",
    "    \n",
    "    lock = 10\n",
    "    tryCount = 0\n",
    "    while(lock):\n",
    "        lock -= 1\n",
    "        try:\n",
    "            url = \"https://query1.finance.yahoo.com/v7/finance/download/\" + str(ticker) + \".TW?period1=\" + str(start_timeStamp) + \"&period2=\" + str(end_timeStamp) + \"&interval=1d&events=history\"\n",
    "            urllib.request.urlretrieve(url, \"./data/price/\" + str(ticker) + \".csv\")\n",
    "            break\n",
    "        except urllib.error.URLError as e:\n",
    "            print( e.code, ticker)\n",
    "            time.sleep(0.5)\n",
    "\n",
    "#     errorMsg = \"[Error] \" + ticker + \",\" + start + \",\"+ end + \",\" + str(idx)\n",
    "#     print(errorMsg)\n",
    "#     fp.write(errorMsg+'\\n')\n",
    "\n",
    "    fp.close()\n",
    "\n",
    "with open(\"./20200331上課資料-3/backtest_targets_remove_delist_target.json\",\"r\")as f:\n",
    "    target = json.load(f)\n",
    "\n",
    "print(len(target))"
   ]
  },
  {
   "cell_type": "code",
   "execution_count": 54,
   "metadata": {
    "ExecuteTime": {
     "end_time": "2020-04-13T16:34:14.100474Z",
     "start_time": "2020-04-13T16:34:09.438653Z"
    },
    "collapsed": true
   },
   "outputs": [
    {
     "name": "stderr",
     "output_type": "stream",
     "text": [
      "\n",
      "\n",
      "0it [00:00, ?it/s]\u001b[A\u001b[A"
     ]
    },
    {
     "name": "stdout",
     "output_type": "stream",
     "text": [
      "400 amanda 3535\n",
      "400 amanda 3535\n",
      "404 amanda 3535\n",
      "404 amanda 3535\n",
      "404 amanda 3535\n",
      "404 amanda 3535\n"
     ]
    },
    {
     "name": "stderr",
     "output_type": "stream",
     "text": [
      "\r",
      "0it [00:04, ?it/s]"
     ]
    },
    {
     "name": "stdout",
     "output_type": "stream",
     "text": [
      "400 amanda 3535\n"
     ]
    },
    {
     "name": "stderr",
     "output_type": "stream",
     "text": [
      "\n"
     ]
    },
    {
     "ename": "KeyboardInterrupt",
     "evalue": "",
     "output_type": "error",
     "traceback": [
      "\u001b[0;31m---------------------------------------------------------------------------\u001b[0m",
      "\u001b[0;31mHTTPError\u001b[0m                                 Traceback (most recent call last)",
      "\u001b[0;32m<ipython-input-53-ea8028e6863e>\u001b[0m in \u001b[0;36mgetPriceData\u001b[0;34m(ticker, start, end)\u001b[0m\n\u001b[1;32m     37\u001b[0m             \u001b[0murl\u001b[0m \u001b[0;34m=\u001b[0m \u001b[0;34m\"https://query1.finance.yahoo.com/v7/finance/download/\"\u001b[0m \u001b[0;34m+\u001b[0m \u001b[0mstr\u001b[0m\u001b[0;34m(\u001b[0m\u001b[0mticker\u001b[0m\u001b[0;34m)\u001b[0m \u001b[0;34m+\u001b[0m \u001b[0;34m\".TW?period1=\"\u001b[0m \u001b[0;34m+\u001b[0m \u001b[0mstr\u001b[0m\u001b[0;34m(\u001b[0m\u001b[0mstart_timeStamp\u001b[0m\u001b[0;34m)\u001b[0m \u001b[0;34m+\u001b[0m \u001b[0;34m\"&period2=\"\u001b[0m \u001b[0;34m+\u001b[0m \u001b[0mstr\u001b[0m\u001b[0;34m(\u001b[0m\u001b[0mend_timeStamp\u001b[0m\u001b[0;34m)\u001b[0m \u001b[0;34m+\u001b[0m \u001b[0;34m\"&interval=1d&events=history\"\u001b[0m\u001b[0;34m\u001b[0m\u001b[0;34m\u001b[0m\u001b[0m\n\u001b[0;32m---> 38\u001b[0;31m             \u001b[0murllib\u001b[0m\u001b[0;34m.\u001b[0m\u001b[0mrequest\u001b[0m\u001b[0;34m.\u001b[0m\u001b[0murlretrieve\u001b[0m\u001b[0;34m(\u001b[0m\u001b[0murl\u001b[0m\u001b[0;34m,\u001b[0m \u001b[0;34m\"./data/price/\"\u001b[0m \u001b[0;34m+\u001b[0m \u001b[0mstr\u001b[0m\u001b[0;34m(\u001b[0m\u001b[0mticker\u001b[0m\u001b[0;34m)\u001b[0m \u001b[0;34m+\u001b[0m \u001b[0;34m\".csv\"\u001b[0m\u001b[0;34m)\u001b[0m\u001b[0;34m\u001b[0m\u001b[0;34m\u001b[0m\u001b[0m\n\u001b[0m\u001b[1;32m     39\u001b[0m             \u001b[0;32mbreak\u001b[0m\u001b[0;34m\u001b[0m\u001b[0;34m\u001b[0m\u001b[0m\n",
      "\u001b[0;32m~/anaconda3/lib/python3.7/urllib/request.py\u001b[0m in \u001b[0;36murlretrieve\u001b[0;34m(url, filename, reporthook, data)\u001b[0m\n\u001b[1;32m    246\u001b[0m \u001b[0;34m\u001b[0m\u001b[0m\n\u001b[0;32m--> 247\u001b[0;31m     \u001b[0;32mwith\u001b[0m \u001b[0mcontextlib\u001b[0m\u001b[0;34m.\u001b[0m\u001b[0mclosing\u001b[0m\u001b[0;34m(\u001b[0m\u001b[0murlopen\u001b[0m\u001b[0;34m(\u001b[0m\u001b[0murl\u001b[0m\u001b[0;34m,\u001b[0m \u001b[0mdata\u001b[0m\u001b[0;34m)\u001b[0m\u001b[0;34m)\u001b[0m \u001b[0;32mas\u001b[0m \u001b[0mfp\u001b[0m\u001b[0;34m:\u001b[0m\u001b[0;34m\u001b[0m\u001b[0;34m\u001b[0m\u001b[0m\n\u001b[0m\u001b[1;32m    248\u001b[0m         \u001b[0mheaders\u001b[0m \u001b[0;34m=\u001b[0m \u001b[0mfp\u001b[0m\u001b[0;34m.\u001b[0m\u001b[0minfo\u001b[0m\u001b[0;34m(\u001b[0m\u001b[0;34m)\u001b[0m\u001b[0;34m\u001b[0m\u001b[0;34m\u001b[0m\u001b[0m\n",
      "\u001b[0;32m~/anaconda3/lib/python3.7/urllib/request.py\u001b[0m in \u001b[0;36murlopen\u001b[0;34m(url, data, timeout, cafile, capath, cadefault, context)\u001b[0m\n\u001b[1;32m    221\u001b[0m         \u001b[0mopener\u001b[0m \u001b[0;34m=\u001b[0m \u001b[0m_opener\u001b[0m\u001b[0;34m\u001b[0m\u001b[0;34m\u001b[0m\u001b[0m\n\u001b[0;32m--> 222\u001b[0;31m     \u001b[0;32mreturn\u001b[0m \u001b[0mopener\u001b[0m\u001b[0;34m.\u001b[0m\u001b[0mopen\u001b[0m\u001b[0;34m(\u001b[0m\u001b[0murl\u001b[0m\u001b[0;34m,\u001b[0m \u001b[0mdata\u001b[0m\u001b[0;34m,\u001b[0m \u001b[0mtimeout\u001b[0m\u001b[0;34m)\u001b[0m\u001b[0;34m\u001b[0m\u001b[0;34m\u001b[0m\u001b[0m\n\u001b[0m\u001b[1;32m    223\u001b[0m \u001b[0;34m\u001b[0m\u001b[0m\n",
      "\u001b[0;32m~/anaconda3/lib/python3.7/urllib/request.py\u001b[0m in \u001b[0;36mopen\u001b[0;34m(self, fullurl, data, timeout)\u001b[0m\n\u001b[1;32m    530\u001b[0m             \u001b[0mmeth\u001b[0m \u001b[0;34m=\u001b[0m \u001b[0mgetattr\u001b[0m\u001b[0;34m(\u001b[0m\u001b[0mprocessor\u001b[0m\u001b[0;34m,\u001b[0m \u001b[0mmeth_name\u001b[0m\u001b[0;34m)\u001b[0m\u001b[0;34m\u001b[0m\u001b[0;34m\u001b[0m\u001b[0m\n\u001b[0;32m--> 531\u001b[0;31m             \u001b[0mresponse\u001b[0m \u001b[0;34m=\u001b[0m \u001b[0mmeth\u001b[0m\u001b[0;34m(\u001b[0m\u001b[0mreq\u001b[0m\u001b[0;34m,\u001b[0m \u001b[0mresponse\u001b[0m\u001b[0;34m)\u001b[0m\u001b[0;34m\u001b[0m\u001b[0;34m\u001b[0m\u001b[0m\n\u001b[0m\u001b[1;32m    532\u001b[0m \u001b[0;34m\u001b[0m\u001b[0m\n",
      "\u001b[0;32m~/anaconda3/lib/python3.7/urllib/request.py\u001b[0m in \u001b[0;36mhttp_response\u001b[0;34m(self, request, response)\u001b[0m\n\u001b[1;32m    640\u001b[0m             response = self.parent.error(\n\u001b[0;32m--> 641\u001b[0;31m                 'http', request, response, code, msg, hdrs)\n\u001b[0m\u001b[1;32m    642\u001b[0m \u001b[0;34m\u001b[0m\u001b[0m\n",
      "\u001b[0;32m~/anaconda3/lib/python3.7/urllib/request.py\u001b[0m in \u001b[0;36merror\u001b[0;34m(self, proto, *args)\u001b[0m\n\u001b[1;32m    568\u001b[0m             \u001b[0margs\u001b[0m \u001b[0;34m=\u001b[0m \u001b[0;34m(\u001b[0m\u001b[0mdict\u001b[0m\u001b[0;34m,\u001b[0m \u001b[0;34m'default'\u001b[0m\u001b[0;34m,\u001b[0m \u001b[0;34m'http_error_default'\u001b[0m\u001b[0;34m)\u001b[0m \u001b[0;34m+\u001b[0m \u001b[0morig_args\u001b[0m\u001b[0;34m\u001b[0m\u001b[0;34m\u001b[0m\u001b[0m\n\u001b[0;32m--> 569\u001b[0;31m             \u001b[0;32mreturn\u001b[0m \u001b[0mself\u001b[0m\u001b[0;34m.\u001b[0m\u001b[0m_call_chain\u001b[0m\u001b[0;34m(\u001b[0m\u001b[0;34m*\u001b[0m\u001b[0margs\u001b[0m\u001b[0;34m)\u001b[0m\u001b[0;34m\u001b[0m\u001b[0;34m\u001b[0m\u001b[0m\n\u001b[0m\u001b[1;32m    570\u001b[0m \u001b[0;34m\u001b[0m\u001b[0m\n",
      "\u001b[0;32m~/anaconda3/lib/python3.7/urllib/request.py\u001b[0m in \u001b[0;36m_call_chain\u001b[0;34m(self, chain, kind, meth_name, *args)\u001b[0m\n\u001b[1;32m    502\u001b[0m             \u001b[0mfunc\u001b[0m \u001b[0;34m=\u001b[0m \u001b[0mgetattr\u001b[0m\u001b[0;34m(\u001b[0m\u001b[0mhandler\u001b[0m\u001b[0;34m,\u001b[0m \u001b[0mmeth_name\u001b[0m\u001b[0;34m)\u001b[0m\u001b[0;34m\u001b[0m\u001b[0;34m\u001b[0m\u001b[0m\n\u001b[0;32m--> 503\u001b[0;31m             \u001b[0mresult\u001b[0m \u001b[0;34m=\u001b[0m \u001b[0mfunc\u001b[0m\u001b[0;34m(\u001b[0m\u001b[0;34m*\u001b[0m\u001b[0margs\u001b[0m\u001b[0;34m)\u001b[0m\u001b[0;34m\u001b[0m\u001b[0;34m\u001b[0m\u001b[0m\n\u001b[0m\u001b[1;32m    504\u001b[0m             \u001b[0;32mif\u001b[0m \u001b[0mresult\u001b[0m \u001b[0;32mis\u001b[0m \u001b[0;32mnot\u001b[0m \u001b[0;32mNone\u001b[0m\u001b[0;34m:\u001b[0m\u001b[0;34m\u001b[0m\u001b[0;34m\u001b[0m\u001b[0m\n",
      "\u001b[0;32m~/anaconda3/lib/python3.7/urllib/request.py\u001b[0m in \u001b[0;36mhttp_error_default\u001b[0;34m(self, req, fp, code, msg, hdrs)\u001b[0m\n\u001b[1;32m    648\u001b[0m     \u001b[0;32mdef\u001b[0m \u001b[0mhttp_error_default\u001b[0m\u001b[0;34m(\u001b[0m\u001b[0mself\u001b[0m\u001b[0;34m,\u001b[0m \u001b[0mreq\u001b[0m\u001b[0;34m,\u001b[0m \u001b[0mfp\u001b[0m\u001b[0;34m,\u001b[0m \u001b[0mcode\u001b[0m\u001b[0;34m,\u001b[0m \u001b[0mmsg\u001b[0m\u001b[0;34m,\u001b[0m \u001b[0mhdrs\u001b[0m\u001b[0;34m)\u001b[0m\u001b[0;34m:\u001b[0m\u001b[0;34m\u001b[0m\u001b[0;34m\u001b[0m\u001b[0m\n\u001b[0;32m--> 649\u001b[0;31m         \u001b[0;32mraise\u001b[0m \u001b[0mHTTPError\u001b[0m\u001b[0;34m(\u001b[0m\u001b[0mreq\u001b[0m\u001b[0;34m.\u001b[0m\u001b[0mfull_url\u001b[0m\u001b[0;34m,\u001b[0m \u001b[0mcode\u001b[0m\u001b[0;34m,\u001b[0m \u001b[0mmsg\u001b[0m\u001b[0;34m,\u001b[0m \u001b[0mhdrs\u001b[0m\u001b[0;34m,\u001b[0m \u001b[0mfp\u001b[0m\u001b[0;34m)\u001b[0m\u001b[0;34m\u001b[0m\u001b[0;34m\u001b[0m\u001b[0m\n\u001b[0m\u001b[1;32m    650\u001b[0m \u001b[0;34m\u001b[0m\u001b[0m\n",
      "\u001b[0;31mHTTPError\u001b[0m: HTTP Error 400: Bad Request",
      "\nDuring handling of the above exception, another exception occurred:\n",
      "\u001b[0;31mKeyboardInterrupt\u001b[0m                         Traceback (most recent call last)",
      "\u001b[0;32m<ipython-input-54-60a93ac1fda0>\u001b[0m in \u001b[0;36m<module>\u001b[0;34m\u001b[0m\n\u001b[1;32m     14\u001b[0m     \u001b[0;34m'bearish_target'\u001b[0m\u001b[0;34m:\u001b[0m \u001b[0;34m'3535'\u001b[0m\u001b[0;34m\u001b[0m\u001b[0;34m\u001b[0m\u001b[0m\n\u001b[1;32m     15\u001b[0m '''\n\u001b[0;32m---> 16\u001b[0;31m \u001b[0mcrawler\u001b[0m\u001b[0;34m(\u001b[0m\u001b[0mtarget\u001b[0m\u001b[0;34m)\u001b[0m\u001b[0;34m\u001b[0m\u001b[0;34m\u001b[0m\u001b[0m\n\u001b[0m\u001b[1;32m     17\u001b[0m \u001b[0;32mdef\u001b[0m \u001b[0mcrawler\u001b[0m\u001b[0;34m(\u001b[0m\u001b[0mtarget\u001b[0m\u001b[0;34m)\u001b[0m\u001b[0;34m:\u001b[0m\u001b[0;34m\u001b[0m\u001b[0;34m\u001b[0m\u001b[0m\n\u001b[1;32m     18\u001b[0m     \u001b[0;32mfor\u001b[0m \u001b[0midx\u001b[0m\u001b[0;34m,\u001b[0m \u001b[0mi\u001b[0m \u001b[0;32min\u001b[0m \u001b[0mtqdm\u001b[0m\u001b[0;34m(\u001b[0m\u001b[0menumerate\u001b[0m\u001b[0;34m(\u001b[0m\u001b[0mtarget\u001b[0m\u001b[0;34m)\u001b[0m\u001b[0;34m)\u001b[0m\u001b[0;34m:\u001b[0m\u001b[0;34m\u001b[0m\u001b[0;34m\u001b[0m\u001b[0m\n",
      "\u001b[0;32m<ipython-input-32-f92c9de9aaf3>\u001b[0m in \u001b[0;36mcrawler\u001b[0;34m(target)\u001b[0m\n\u001b[1;32m     55\u001b[0m \u001b[0;34m\u001b[0m\u001b[0m\n\u001b[1;32m     56\u001b[0m         \u001b[0mgetPriceData\u001b[0m\u001b[0;34m(\u001b[0m\u001b[0mi\u001b[0m\u001b[0;34m[\u001b[0m\u001b[0;34m'bullish_target'\u001b[0m\u001b[0;34m]\u001b[0m\u001b[0;34m,\u001b[0m \u001b[0mstart\u001b[0m\u001b[0;34m,\u001b[0m \u001b[0mend\u001b[0m\u001b[0;34m)\u001b[0m\u001b[0;34m\u001b[0m\u001b[0;34m\u001b[0m\u001b[0m\n\u001b[0;32m---> 57\u001b[0;31m         \u001b[0mgetPriceData\u001b[0m\u001b[0;34m(\u001b[0m\u001b[0mi\u001b[0m\u001b[0;34m[\u001b[0m\u001b[0;34m'bearish_target'\u001b[0m\u001b[0;34m]\u001b[0m\u001b[0;34m,\u001b[0m \u001b[0mstart\u001b[0m\u001b[0;34m,\u001b[0m \u001b[0mend\u001b[0m\u001b[0;34m)\u001b[0m\u001b[0;34m\u001b[0m\u001b[0;34m\u001b[0m\u001b[0m\n\u001b[0m\u001b[1;32m     58\u001b[0m         \u001b[0mtime\u001b[0m\u001b[0;34m.\u001b[0m\u001b[0msleep\u001b[0m\u001b[0;34m(\u001b[0m\u001b[0;36m0.5\u001b[0m\u001b[0;34m)\u001b[0m\u001b[0;34m\u001b[0m\u001b[0;34m\u001b[0m\u001b[0m\n",
      "\u001b[0;32m<ipython-input-53-ea8028e6863e>\u001b[0m in \u001b[0;36mgetPriceData\u001b[0;34m(ticker, start, end)\u001b[0m\n\u001b[1;32m     40\u001b[0m         \u001b[0;32mexcept\u001b[0m \u001b[0murllib\u001b[0m\u001b[0;34m.\u001b[0m\u001b[0merror\u001b[0m\u001b[0;34m.\u001b[0m\u001b[0mURLError\u001b[0m \u001b[0;32mas\u001b[0m \u001b[0me\u001b[0m\u001b[0;34m:\u001b[0m\u001b[0;34m\u001b[0m\u001b[0;34m\u001b[0m\u001b[0m\n\u001b[1;32m     41\u001b[0m             \u001b[0mprint\u001b[0m\u001b[0;34m(\u001b[0m\u001b[0mstr\u001b[0m\u001b[0;34m(\u001b[0m\u001b[0me\u001b[0m\u001b[0;34m.\u001b[0m\u001b[0mcode\u001b[0m\u001b[0;34m)\u001b[0m\u001b[0;34m+\u001b[0m\u001b[0;34m\" amanda \"\u001b[0m\u001b[0;34m+\u001b[0m\u001b[0mstr\u001b[0m\u001b[0;34m(\u001b[0m\u001b[0mticker\u001b[0m\u001b[0;34m)\u001b[0m\u001b[0;34m)\u001b[0m\u001b[0;34m\u001b[0m\u001b[0;34m\u001b[0m\u001b[0m\n\u001b[0;32m---> 42\u001b[0;31m             \u001b[0mtime\u001b[0m\u001b[0;34m.\u001b[0m\u001b[0msleep\u001b[0m\u001b[0;34m(\u001b[0m\u001b[0;36m0.5\u001b[0m\u001b[0;34m)\u001b[0m\u001b[0;34m\u001b[0m\u001b[0;34m\u001b[0m\u001b[0m\n\u001b[0m\u001b[1;32m     43\u001b[0m \u001b[0;34m\u001b[0m\u001b[0m\n\u001b[1;32m     44\u001b[0m \u001b[0;31m#     errorMsg = \"[Error] \" + ticker + \",\" + start + \",\"+ end + \",\" + str(idx)\u001b[0m\u001b[0;34m\u001b[0m\u001b[0;34m\u001b[0m\u001b[0;34m\u001b[0m\u001b[0m\n",
      "\u001b[0;31mKeyboardInterrupt\u001b[0m: "
     ]
    }
   ],
   "source": [
    "\n",
    "\n",
    "bullish_return = []\n",
    "bearish_return = []\n",
    "\n",
    "'''\n",
    "target:\n",
    "    'year': '100', \n",
    "    'month': '1',\n",
    "    'bullish_target': '3406', \n",
    "    'bearish_target': '3535'\n",
    "'''\n",
    "crawler(target)\n",
    "def crawler(target):\n",
    "    for idx, i in tqdm(enumerate(target)):\n",
    "    # Debug message.\n",
    "    #     print(\"year: \" + i['year'])\n",
    "    #     print(\"month: \"+  i['month'])\n",
    "    #     print(\"bullish_target: \"+  i['bullish_target'])\n",
    "    #     print(\"bearish_target: \" + i['bearish_target'])\n",
    "\n",
    "        year = 1911 + int(i['year'])\n",
    "        month = int(i['month'])\n",
    "    # Debug message.\n",
    "    #     if year == 2020:\n",
    "    #         print(i['month'])\n",
    "\n",
    "        DecemberOrNot = 12\n",
    "        start, end = _, _\n",
    "        #不用計算跨年\n",
    "        if month != DecemberOrNot:\n",
    "\n",
    "            startYear, endYear = str(year), str(year)\n",
    "            startMonth, endMonth = str(month), str(month + 1)\n",
    "    #         startMonth, endMonth = str(month), str(month)\n",
    "\n",
    "            #月份不是二位數,要加0\n",
    "            if month < 10:\n",
    "                start = startYear + \"-0\" + str(startMonth) + \"-11\"\n",
    "                if month != 9:\n",
    "                    end = endYear + \"-0\" + str(endMonth) + \"-10\" #######\n",
    "                else:\n",
    "                    end = endYear + \"-\" + str(endMonth) + \"-10\" #######\n",
    "\n",
    "            #月份是二位數,不要加0\n",
    "            else:\n",
    "                start = startYear + \"-\" + str(startMonth) + \"-11\"\n",
    "                end = endYear + \"-\" + str(endMonth) + \"-10\" #######\n",
    "\n",
    "        #要計算跨年\n",
    "        else:\n",
    "            start, end = str(year) + \"-12-11\", str(year+1) + \"-01-10\"\n",
    "\n",
    "        getPriceData(i['bullish_target'], start, end)\n",
    "        getPriceData(i['bearish_target'], start, end)\n",
    "        time.sleep(0.5)"
   ]
  },
  {
   "cell_type": "code",
   "execution_count": 2,
   "metadata": {
    "ExecuteTime": {
     "end_time": "2020-04-17T09:53:04.991996Z",
     "start_time": "2020-04-17T09:53:04.979627Z"
    }
   },
   "outputs": [],
   "source": [
    "def getApproxDate(price_data, start_idx, end_idx, open_day, close_day):\n",
    "#     print(start_idx, end_idx)\n",
    "#     print(price_data)\n",
    "\n",
    "    # 先取列的範圍: start_idx ~ end_idx (ex: 2011-02-08 ~ 2011-03-31)\n",
    "    # 再取行的範圍 (hint: 指取date得部份)\n",
    "    trade_range = price_data.iloc[start_idx:end_idx]\n",
    "    trade_date_list = trade_range['Date'].tolist()\n",
    "    # display(trade_range)\n",
    "\n",
    "    for i in range(0, len(trade_date_list)):\n",
    "        trade_date_list[i] = datetime.datetime.strptime( trade_date_list[i], \"%Y-%m-%d\")\n",
    "\n",
    "    # 計算2月到3月之間跟open_day與close_day的差距...\n",
    "    open_delta = []\n",
    "    close_delta = []\n",
    "    for i in range(0, len(trade_date_list)):\n",
    "#         print(abs(trade_date_list[i] - open_day))\n",
    "    #     break\n",
    "        open_delta.append( abs( trade_date_list[i] - open_day) )\n",
    "        if trade_date_list[i] <= close_day:\n",
    "            close_delta.append(abs(trade_date_list[i] - close_day))\n",
    "#         Amanda version.\n",
    "#         else:\n",
    "#             continue\n",
    "#             print(trade_date_list[i])\n",
    "\n",
    "    open_indices = [ i for i, x in enumerate(open_delta) if x == min(open_delta)]\n",
    "    close_indices = [ i for i, x in enumerate(close_delta) if x == min(close_delta)]\n",
    "    \n",
    "    '''\n",
    "    \n",
    "        open_day = 2011-02-11\n",
    "        假設今天沒有2011-02-11但是有2011-02-10, 2011-02-12\n",
    "        由此可知上述兩個日期與2011-02-11的差距皆為1,但我們要找的是2011-02-11～2011-03-10的間距\n",
    "        故2011-02-10這個日期不是我們要的\n",
    "    \n",
    "    ''' \n",
    "    open_idx = open_indices[-1]\n",
    "    close_idx = close_indices[-1]\n",
    "\n",
    "    trade_range = trade_range.reset_index()\n",
    "    open_price = trade_range['Adj Close'][open_idx]\n",
    "    close_price = trade_range['Adj Close'][close_idx]\n",
    "    \n",
    "#     print(open_price)\n",
    "#     print(close_price)\n",
    "    return open_price, close_price"
   ]
  },
  {
   "cell_type": "code",
   "execution_count": 3,
   "metadata": {
    "ExecuteTime": {
     "end_time": "2020-04-17T09:53:05.583267Z",
     "start_time": "2020-04-17T09:53:05.570297Z"
    }
   },
   "outputs": [],
   "source": [
    "from dateutil.relativedelta import *\n",
    "\n",
    "def getPrice(y, m, target):\n",
    "    y = str(int(y)+1911)\n",
    "\n",
    "    if len(m) < 2:\n",
    "        m = \"0\" + m\n",
    "    # 給入一個日期的字串以及日期格式,回傳一個儲存日期的資料型態\n",
    "    # 對日期作加減運算 [note.1]\n",
    "    open_day = datetime.datetime.strptime( y + \"-\" + m + \"-11\", \"%Y-%m-%d\") + relativedelta(months=+1)\n",
    "    close_day = datetime.datetime.strptime(y + \"-\" + m + \"-10\", \"%Y-%m-%d\") + relativedelta(months=+2)\n",
    "\n",
    "    # 把csv讀進來\n",
    "    # price_data = pd.read_csv(\"./data/price/\" + bullish_target + \".csv\")\n",
    "    price_data = pd.read_csv( \"./data/price/\" + target + \".csv\" )\n",
    "#     display(price_data)\n",
    "    \n",
    "    # 把表格中'Date'那行取出來再轉成lsit\n",
    "    date_list = price_data[\"Date\"].tolist()\n",
    "#     print(date_list)\n",
    "\n",
    "    # 取年跟月: 2011-02-03 00:00:00 -> 2011-02\n",
    "    # change time format into string [note.2]\n",
    "    start_date = datetime.datetime.strftime(open_day, \"%Y-%m\")\n",
    "    end_date = datetime.datetime.strftime(close_day, \"%Y-%m\")\n",
    "    \n",
    "    check_start = 0\n",
    "    check_end = 0\n",
    "    start_idx, end_idx = 0, 0\n",
    "    for i in range(0, len(date_list)):    \n",
    "        if check_start == 0 and start_date in date_list[i]:\n",
    "            start_idx = i\n",
    "            check_start = 1\n",
    "        elif check_end == 0 and end_date in date_list[i]:\n",
    "            check_end = 1\n",
    "        elif check_end == 1 and end_date not in date_list[i]:\n",
    "            end_idx = i\n",
    "            break\n",
    "\n",
    "    if end_idx - start_idx <28:\n",
    "        return 'NaN', 'NaN'\n",
    "        \n",
    "    '''\n",
    "    \n",
    "    Price_data: csv表格\n",
    "    start_idx: 開頭的索引 (hint: 二月的頭)\n",
    "    end_idx: 結尾的索引 (hint: 三月的尾)\n",
    "    open_day: 開始日期 (ex: 2011-02-11)\n",
    "    close_day: 結束日期 (ex: 2011-03-10)\n",
    "    '''\n",
    "    \n",
    "    return getApproxDate(price_data, start_idx, end_idx, open_day, close_day)\n",
    "    # Same as below.\n",
    "    # open_price, close_price = getApproxDate(price_data, start_idx, end_idx, open_day, close_day)\n",
    "    # return open_price, close_price"
   ]
  },
  {
   "cell_type": "code",
   "execution_count": 4,
   "metadata": {
    "ExecuteTime": {
     "end_time": "2020-04-17T09:53:06.337382Z",
     "start_time": "2020-04-17T09:53:06.331186Z"
    }
   },
   "outputs": [],
   "source": [
    "def targetHandler(target):\n",
    "#     print(target)\n",
    "    bullishOpen, bullishClose = getPrice(target[\"year\"], target[\"month\"], target['bullish_target'])\n",
    "    bearishOpen, bearishClose = getPrice(target[\"year\"], target[\"month\"], target['bearish_target'])\n",
    "#     print(bullishOpen, bullishClose)\n",
    "#     print(bearishOpen, bearishClose)\n",
    "    \n",
    "    resultDict = {\n",
    "        'year':target['year'],\n",
    "        'month':target['month'],\n",
    "        'bullish_target':target['bullish_target'],\n",
    "        'bullish_target_open_price':bullishOpen,\n",
    "        'bullish_target_close_price':bullishClose,\n",
    "        'bearish_target':target['bearish_target'],\n",
    "        'bearish_target_open_price':bearishOpen,\n",
    "        'bearish_target_close_price':bearishClose,        \n",
    "    }\n",
    "    return resultDict"
   ]
  },
  {
   "cell_type": "code",
   "execution_count": 5,
   "metadata": {
    "ExecuteTime": {
     "end_time": "2020-04-17T09:53:07.247427Z",
     "start_time": "2020-04-17T09:53:07.032344Z"
    },
    "scrolled": true
   },
   "outputs": [
    {
     "name": "stdout",
     "output_type": "stream",
     "text": [
      "30.940599\n",
      "30.3465\n",
      "17.789301000000002\n",
      "17.738192\n",
      "20.616648\n",
      "20.767891\n",
      "8.185424000000001\n",
      "7.960535\n",
      "11.227112\n",
      "10.197958999999999\n",
      "12.504957000000001\n",
      "11.949178\n",
      "10.628244\n",
      "10.781931\n",
      "11.091114\n",
      "10.630902\n",
      "47.32708\n",
      "45.5033\n"
     ]
    }
   ],
   "source": [
    "result = [ targetHandler(t) for t in target[:10] ]\n",
    "# print(result)\n",
    "ret = json.dumps(result)\n",
    "\n",
    "with open('result.json', 'w') as fp:\n",
    "    fp.write(ret)\n",
    "    "
   ]
  },
  {
   "cell_type": "code",
   "execution_count": 6,
   "metadata": {
    "ExecuteTime": {
     "end_time": "2020-04-17T09:53:25.879201Z",
     "start_time": "2020-04-17T09:53:25.872636Z"
    }
   },
   "outputs": [
    {
     "name": "stdout",
     "output_type": "stream",
     "text": [
      "[{'year': '100', 'month': '1', 'bullish_target': '3406', 'bullish_target_open_price': 'NaN', 'bullish_target_close_price': 'NaN', 'bearish_target': '3535', 'bearish_target_open_price': 30.940599, 'bearish_target_close_price': 30.3465}, {'year': '100', 'month': '1', 'bullish_target': '9933', 'bullish_target_open_price': 'NaN', 'bullish_target_close_price': 'NaN', 'bearish_target': '9902', 'bearish_target_open_price': 'NaN', 'bearish_target_close_price': 'NaN'}, {'year': '100', 'month': '1', 'bullish_target': '3018', 'bullish_target_open_price': 'NaN', 'bullish_target_close_price': 'NaN', 'bearish_target': '3052', 'bearish_target_open_price': 'NaN', 'bearish_target_close_price': 'NaN'}, {'year': '100', 'month': '1', 'bullish_target': '1727', 'bullish_target_open_price': 'NaN', 'bullish_target_close_price': 'NaN', 'bearish_target': '1735', 'bearish_target_open_price': 'NaN', 'bearish_target_close_price': 'NaN'}, {'year': '100', 'month': '1', 'bullish_target': '4108', 'bullish_target_open_price': 'NaN', 'bullish_target_close_price': 'NaN', 'bearish_target': '4142', 'bearish_target_open_price': 'NaN', 'bearish_target_close_price': 'NaN'}, {'year': '100', 'month': '1', 'bullish_target': '1307', 'bullish_target_open_price': 17.789301000000002, 'bullish_target_close_price': 17.738192, 'bearish_target': '1316', 'bearish_target_open_price': 20.616648, 'bearish_target_close_price': 20.767891}, {'year': '100', 'month': '1', 'bullish_target': '5525', 'bullish_target_open_price': 8.185424000000001, 'bullish_target_close_price': 7.960535, 'bearish_target': '2537', 'bearish_target_open_price': 11.227112, 'bearish_target_close_price': 10.197958999999999}, {'year': '100', 'month': '1', 'bullish_target': '2108', 'bullish_target_open_price': 12.504957000000001, 'bullish_target_close_price': 11.949178, 'bearish_target': '2109', 'bearish_target_open_price': 10.628244, 'bearish_target_close_price': 10.781931}, {'year': '100', 'month': '1', 'bullish_target': '1104', 'bullish_target_open_price': 'NaN', 'bullish_target_close_price': 'NaN', 'bearish_target': '1110', 'bearish_target_open_price': 11.091114, 'bearish_target_close_price': 10.630902}, {'year': '100', 'month': '1', 'bullish_target': '2201', 'bullish_target_open_price': 'NaN', 'bullish_target_close_price': 'NaN', 'bearish_target': '2204', 'bearish_target_open_price': 47.32708, 'bearish_target_close_price': 45.5033}]\n"
     ]
    }
   ],
   "source": [
    "with open(\"result.json\",\"r\")as f:\n",
    "    target = json.load(f)\n",
    "print(target[:10])"
   ]
  },
  {
   "cell_type": "code",
   "execution_count": 10,
   "metadata": {
    "ExecuteTime": {
     "end_time": "2020-04-17T09:54:59.130546Z",
     "start_time": "2020-04-17T09:54:59.114876Z"
    }
   },
   "outputs": [
    {
     "name": "stdout",
     "output_type": "stream",
     "text": [
      "[-0.0028730190129449317, -0.02747432509299469, -0.04444469501174623]\n",
      "[-0.007335964604915277, 0.0916667616747745, -0.014460243855899401]\n",
      "-0.0008202476506210041\n"
     ]
    }
   ],
   "source": [
    "\n",
    "\n",
    "with open(\"result.json\",\"r\")as f:\n",
    "    target = json.load(f)\n",
    "count = 0\n",
    "\n",
    "bullish_return, bearish_return = [], []\n",
    "\n",
    "for i in range(0,len(target)):\n",
    "#     temp[\"bullish_target_open_price\"] = []\n",
    "#     temp[\"bullish_target_close_price\"] = []\n",
    "#     temp[\"bearish_target_open_price\"] = []\n",
    "#     temp[\"bearish_target_close_price\"] = []\n",
    "    \n",
    "    if target[i][\"bullish_target_open_price\"] == \"NaN\" or \\\n",
    "       target[i][\"bullish_target_close_price\"] == \"NaN\" or \\\n",
    "       target[i][\"bearish_target_open_price\"] == \"NaN\" or \\\n",
    "       target[i][\"bearish_target_close_price\"] == \"NaN\":  \n",
    "        count+=1\n",
    "        continue\n",
    "    bullish_return.append((target[i][\"bullish_target_close_price\"]- \\\n",
    "                       target[i][\"bullish_target_open_price\"])/ \\\n",
    "                      target[i][\"bullish_target_open_price\"])\n",
    "    \n",
    "    bearish_return.append((target[i][\"bearish_target_open_price\"]- \\\n",
    "                       target[i][\"bearish_target_close_price\"])/ \\\n",
    "                       target[i][\"bearish_target_open_price\"])\n",
    "print(bullish_return)\n",
    "print(bearish_return)\n",
    "avg_return = sum(bullish_return+bearish_return)/len(bullish_return+bearish_return)\n",
    "print(avg_return)\n",
    "# print(count)\n",
    "# print(len(bullish_return))\n",
    "\n",
    "import pickle\n",
    "\n",
    "file = open('bullish_return.pickle', 'wb')\n",
    "pickle.dump(bullish_return, file)\n",
    "file.close()\n",
    "\n",
    "file = open('bearish_return.pickle', 'wb')\n",
    "pickle.dump(bearish_return, file)\n",
    "file.close()\n"
   ]
  },
  {
   "cell_type": "code",
   "execution_count": null,
   "metadata": {},
   "outputs": [],
   "source": []
  },
  {
   "cell_type": "markdown",
   "metadata": {},
   "source": [
    "## Note.\n",
    "1. dateutil.relativedelta.relativedelta: 該函式的用法為針對date format的資料作運算 [Doc link](https://dateutil.readthedocs.io/en/stable/relativedelta.html)<br>\n",
    "><span style=\"color: green\"><strong>class</strong></span> dateutil.relativedelta.relativedelta(dt1=None, dt2=None, years=0, months=0, days=0, leapdays=0, weeks=0, hours=0, minutes=0, seconds=0, microseconds=0, year=None, month=None, day=None, weekday=None, yearday=None, nlyearday=None, hour=None, minute=None, second=None, microsecond=None)"
   ]
  },
  {
   "cell_type": "code",
   "execution_count": 19,
   "metadata": {
    "ExecuteTime": {
     "end_time": "2020-04-17T08:00:02.032436Z",
     "start_time": "2020-04-17T08:00:02.022244Z"
    }
   },
   "outputs": [
    {
     "name": "stdout",
     "output_type": "stream",
     "text": [
      "demo\n",
      "After: 2012-03-10 00:00:00\n",
      "Before: 2011-02-01 00:00:00\n"
     ]
    }
   ],
   "source": [
    "from dateutil.relativedelta import *\n",
    "\n",
    "# 對原本的date 作年份+1月+1日+1的運算\n",
    "before = datetime.datetime.strptime( \"2011-02-01\", \"%Y-%m-%d\")\n",
    "after = datetime.datetime.strptime( \"2011-02-01\", \"%Y-%m-%d\") + relativedelta(years=+1, months=+1, day=+10)\n",
    "print('After: {}'.format(after))\n",
    "print('Before: {}'.format(before))\n"
   ]
  },
  {
   "cell_type": "markdown",
   "metadata": {},
   "source": [
    "2. datetime.datetime.strftime: 該函式的用法為將date format根據給的參數將對應的時間轉成string格式 [Doc link](https://docs.python.org/3/library/datetime.html#strftime-strptime-behavior)<br>\n",
    "><span style=\"color: green\"><strong>class</strong></span> datetime.datetime.strftime(\"date format...\") 參數內容祥請doc官網"
   ]
  },
  {
   "cell_type": "code",
   "execution_count": 24,
   "metadata": {
    "ExecuteTime": {
     "end_time": "2020-04-17T08:18:10.426705Z",
     "start_time": "2020-04-17T08:18:10.397123Z"
    }
   },
   "outputs": [
    {
     "name": "stdout",
     "output_type": "stream",
     "text": [
      "Now: 2020-04-17 16:18:10.412139\n",
      "year: 2020\n",
      "month: 04\n",
      "day: 17\n",
      "time: 16:18:10\n",
      "date and time: 04/17/2020, 16:18:10\n"
     ]
    }
   ],
   "source": [
    "\n",
    "from datetime import datetime\n",
    "\n",
    "now = datetime.now() # current date and time\n",
    "print(\"Now: {}\".format(now))\n",
    "\n",
    "year = now.strftime(\"%Y\")\n",
    "print(\"year: {}\".format(year))\n",
    "\n",
    "month = now.strftime(\"%m\")\n",
    "print(\"month: {}\".format(month))\n",
    "\n",
    "day = now.strftime(\"%d\")\n",
    "print(\"day: {}\".format(day))\n",
    "\n",
    "time = now.strftime(\"%H:%M:%S\")\n",
    "print(\"time: {}\".format(time))\n",
    "\n",
    "date_time = now.strftime(\"%m/%d/%Y, %H:%M:%S\")\n",
    "print(\"date and time: {}\".format(date_time))\t"
   ]
  },
  {
   "cell_type": "markdown",
   "metadata": {},
   "source": [
    "## 補充\n",
    "### list.append的用法"
   ]
  },
  {
   "cell_type": "code",
   "execution_count": 50,
   "metadata": {
    "ExecuteTime": {
     "end_time": "2020-04-17T08:35:32.644204Z",
     "start_time": "2020-04-17T08:35:32.634811Z"
    }
   },
   "outputs": [
    {
     "name": "stdout",
     "output_type": "stream",
     "text": [
      "Given a list: [25, 26, 89, 3, 32, 65, 90, 76, 4, 99]\n",
      "We got the min integer 3's index in: [3].\n"
     ]
    }
   ],
   "source": [
    "# [ i for i, x in enumerate(open_delta) if x == min(open_delta)]\n",
    "# Same as below\n",
    "from random import randint \n",
    "\n",
    "tmp2 = []\n",
    "count = 10\n",
    "while(count):\n",
    "    count-=1\n",
    "    tmp2.append(randint(1,100))\n",
    "\n",
    "tmp1 = []\n",
    "for i, x in enumerate(tmp2):\n",
    "    if x == min(tmp2):\n",
    "        tmp1.append(i)\n",
    "print(\"Given a list: {}\".format(tmp2))\n",
    "print('We got the min integer {}\\'s index in: {}.'.format(tmp2[tmp1[0]], tmp1))"
   ]
  },
  {
   "cell_type": "markdown",
   "metadata": {},
   "source": [
    "### 在整數中, 只要是非0的數字皆為false.換言之整數可以當作條件據來作True/False的判斷句（判斷句：a > b, etc...）"
   ]
  },
  {
   "cell_type": "code",
   "execution_count": 52,
   "metadata": {
    "ExecuteTime": {
     "end_time": "2020-04-17T08:38:28.601122Z",
     "start_time": "2020-04-17T08:38:28.591704Z"
    }
   },
   "outputs": [
    {
     "name": "stdout",
     "output_type": "stream",
     "text": [
      "This is False statement your count is 0\n",
      "\n",
      "This is False statement your count is not equal to 9\n"
     ]
    }
   ],
   "source": [
    "\n",
    "count = 0\n",
    "if count:\n",
    "    print('This is True statement your count is {}'.format(count))\n",
    "else:\n",
    "    print('This is False statement your count is {}'.format(count))\n",
    "    \n",
    "print()\n",
    "cond = 10\n",
    "if count == 9:\n",
    "    print('This is True statement your count is equal to 9')\n",
    "else:\n",
    "    print('This is False statement your count is not equal to 9')\n"
   ]
  },
  {
   "cell_type": "markdown",
   "metadata": {
    "ExecuteTime": {
     "end_time": "2020-04-17T08:40:31.703444Z",
     "start_time": "2020-04-17T08:40:31.696714Z"
    }
   },
   "source": [
    "### 在list中, \"list[index1:index2]\"代表取出list從index1到index2前一個之間的所有資料"
   ]
  },
  {
   "cell_type": "code",
   "execution_count": 28,
   "metadata": {
    "ExecuteTime": {
     "end_time": "2020-04-17T08:26:59.544081Z",
     "start_time": "2020-04-17T08:26:59.533825Z"
    }
   },
   "outputs": [
    {
     "name": "stdout",
     "output_type": "stream",
     "text": [
      "['2011-01-28', '2011-02-29']\n"
     ]
    }
   ],
   "source": [
    "# \n",
    "a = [\n",
    "    '2011-01-28',\n",
    "    '2011-02-29',\n",
    "    '2011-03-30',\n",
    "    '2011-04-31',\n",
    "    '2011-05-01'\n",
    "]\n",
    "b = '2011-03'\n",
    "t = 0\n",
    "for i in range(0, len(a)):\n",
    "    if b in a[i]:\n",
    "        t = i\n",
    "        break\n",
    "print(a[:t])"
   ]
  },
  {
   "cell_type": "markdown",
   "metadata": {},
   "source": [
    "### if elif else example"
   ]
  },
  {
   "cell_type": "code",
   "execution_count": null,
   "metadata": {},
   "outputs": [],
   "source": [
    "# if elif else\n",
    "# 吃早餐的例子\n",
    "\n",
    "breakfast = 46\n",
    "hamburger = 99\n",
    "omelette = 44\n",
    "milkTea = 45\n",
    "# 有賣漢堡？\n",
    "if breakfast > hamburger:\n",
    "    print('nope')\n",
    "# 有賣蛋餅？\n",
    "elif breakfast < omelette:\n",
    "    print('nope')\n",
    "# 有賣奶茶？\n",
    "elif breakfast == milkTea:\n",
    "    print('nope')\n",
    "else:\n",
    "    print(\"We only sell water.\")\n",
    "    "
   ]
  },
  {
   "cell_type": "code",
   "execution_count": null,
   "metadata": {},
   "outputs": [],
   "source": []
  }
 ],
 "metadata": {
  "kernelspec": {
   "display_name": "Python 3",
   "language": "python",
   "name": "python3"
  },
  "language_info": {
   "codemirror_mode": {
    "name": "ipython",
    "version": 3
   },
   "file_extension": ".py",
   "mimetype": "text/x-python",
   "name": "python",
   "nbconvert_exporter": "python",
   "pygments_lexer": "ipython3",
   "version": "3.7.4"
  },
  "nbTranslate": {
   "displayLangs": [
    "*"
   ],
   "hotkey": "alt-t",
   "langInMainMenu": true,
   "sourceLang": "en",
   "targetLang": "fr",
   "useGoogleTranslate": true
  },
  "toc": {
   "base_numbering": 1,
   "nav_menu": {},
   "number_sections": true,
   "sideBar": true,
   "skip_h1_title": false,
   "title_cell": "Table of Contents",
   "title_sidebar": "Contents",
   "toc_cell": false,
   "toc_position": {},
   "toc_section_display": true,
   "toc_window_display": false
  },
  "varInspector": {
   "cols": {
    "lenName": 16,
    "lenType": 16,
    "lenVar": 40
   },
   "kernels_config": {
    "python": {
     "delete_cmd_postfix": "",
     "delete_cmd_prefix": "del ",
     "library": "var_list.py",
     "varRefreshCmd": "print(var_dic_list())"
    },
    "r": {
     "delete_cmd_postfix": ") ",
     "delete_cmd_prefix": "rm(",
     "library": "var_list.r",
     "varRefreshCmd": "cat(var_dic_list()) "
    }
   },
   "types_to_exclude": [
    "module",
    "function",
    "builtin_function_or_method",
    "instance",
    "_Feature"
   ],
   "window_display": false
  }
 },
 "nbformat": 4,
 "nbformat_minor": 2
}
