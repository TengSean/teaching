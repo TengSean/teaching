{
 "cells": [
  {
   "cell_type": "code",
   "execution_count": 72,
   "metadata": {
    "ExecuteTime": {
     "end_time": "2020-05-31T10:26:21.916660Z",
     "start_time": "2020-05-31T10:26:21.588058Z"
    }
   },
   "outputs": [],
   "source": [
    "import pandas as pd\n",
    "import os, itertools\n",
    "\n",
    "from sklearn.utils import shuffle\n",
    "from sklearn import tree, svm\n",
    "from sklearn.metrics import recall_score, precision_score, f1_score, accuracy_score, confusion_matrix, classification_report\n",
    "\n",
    "import matplotlib.pyplot as plt\n",
    "\n",
    "from sklearn.neural_network import MLPClassifier\n",
    "\n",
    "from sklearn.ensemble import VotingClassifier\n",
    "\n",
    "from sklearn.model_selection import train_test_split, KFold, StratifiedKFold, GridSearchCV, cross_val_score\n",
    "\n"
   ]
  },
  {
   "cell_type": "code",
   "execution_count": 9,
   "metadata": {
    "ExecuteTime": {
     "end_time": "2020-05-31T09:02:57.825229Z",
     "start_time": "2020-05-31T09:02:57.777739Z"
    }
   },
   "outputs": [],
   "source": [
    "\n",
    "data = pd.read_csv('HW7_2.csv')\n",
    "\n",
    "# Y = data['fraud_ind']\n",
    "# X = data.drop(['fraud_ind'], axis=1)\n",
    "ecfg = pd.get_dummies(data.ecfg)\n",
    "flbmk = pd.get_dummies(data.flbmk)\n",
    "flg_3dsmk = pd.get_dummies(data.flg_3dsmk)\n",
    "insfg = pd.get_dummies(data.insfg)\n",
    "ovrlt = pd.get_dummies(data.ovrlt)\n",
    "\n",
    "data = data.drop(['flbmk'], axis = 1)\n",
    "dummy_ecfg = ecfg['Y'].tolist()\n",
    "dummy_flg_3dsmk = flg_3dsmk['Y'].tolist()\n",
    "dummy_insfg = insfg['Y'].tolist()\n",
    "dummy_ovrlt = ovrlt['Y'].tolist()\n",
    "\n",
    "data['ecfg'] = dummy_ecfg\n",
    "data['flg_3dsmk'] = dummy_flg_3dsmk\n",
    "data['insfg'] = dummy_insfg\n",
    "data['ovrlt'] = dummy_ovrlt\n"
   ]
  },
  {
   "cell_type": "code",
   "execution_count": 10,
   "metadata": {
    "ExecuteTime": {
     "end_time": "2020-05-31T09:02:58.559311Z",
     "start_time": "2020-05-31T09:02:58.512839Z"
    }
   },
   "outputs": [
    {
     "data": {
      "text/html": [
       "<div>\n",
       "<style scoped>\n",
       "    .dataframe tbody tr th:only-of-type {\n",
       "        vertical-align: middle;\n",
       "    }\n",
       "\n",
       "    .dataframe tbody tr th {\n",
       "        vertical-align: top;\n",
       "    }\n",
       "\n",
       "    .dataframe thead th {\n",
       "        text-align: right;\n",
       "    }\n",
       "</style>\n",
       "<table border=\"1\" class=\"dataframe\">\n",
       "  <thead>\n",
       "    <tr style=\"text-align: right;\">\n",
       "      <th></th>\n",
       "      <th>acqic</th>\n",
       "      <th>bacno</th>\n",
       "      <th>cano</th>\n",
       "      <th>conam</th>\n",
       "      <th>contp</th>\n",
       "      <th>csmcu</th>\n",
       "      <th>ecfg</th>\n",
       "      <th>etymd</th>\n",
       "      <th>flg_3dsmk</th>\n",
       "      <th>fraud_ind</th>\n",
       "      <th>...</th>\n",
       "      <th>iterm</th>\n",
       "      <th>locdt</th>\n",
       "      <th>loctm</th>\n",
       "      <th>mcc</th>\n",
       "      <th>mchno</th>\n",
       "      <th>ovrlt</th>\n",
       "      <th>scity</th>\n",
       "      <th>stocn</th>\n",
       "      <th>stscd</th>\n",
       "      <th>txkey</th>\n",
       "    </tr>\n",
       "  </thead>\n",
       "  <tbody>\n",
       "    <tr>\n",
       "      <td>0</td>\n",
       "      <td>3288</td>\n",
       "      <td>88538</td>\n",
       "      <td>81033</td>\n",
       "      <td>1.38</td>\n",
       "      <td>5</td>\n",
       "      <td>62</td>\n",
       "      <td>1</td>\n",
       "      <td>8</td>\n",
       "      <td>0</td>\n",
       "      <td>1</td>\n",
       "      <td>...</td>\n",
       "      <td>0</td>\n",
       "      <td>7</td>\n",
       "      <td>45457.0</td>\n",
       "      <td>337</td>\n",
       "      <td>20984</td>\n",
       "      <td>0</td>\n",
       "      <td>621</td>\n",
       "      <td>93</td>\n",
       "      <td>2</td>\n",
       "      <td>651056</td>\n",
       "    </tr>\n",
       "    <tr>\n",
       "      <td>1</td>\n",
       "      <td>6881</td>\n",
       "      <td>157859</td>\n",
       "      <td>82925</td>\n",
       "      <td>513.80</td>\n",
       "      <td>5</td>\n",
       "      <td>0</td>\n",
       "      <td>0</td>\n",
       "      <td>0</td>\n",
       "      <td>0</td>\n",
       "      <td>1</td>\n",
       "      <td>...</td>\n",
       "      <td>0</td>\n",
       "      <td>23</td>\n",
       "      <td>154137.0</td>\n",
       "      <td>457</td>\n",
       "      <td>59360</td>\n",
       "      <td>0</td>\n",
       "      <td>0</td>\n",
       "      <td>102</td>\n",
       "      <td>0</td>\n",
       "      <td>503429</td>\n",
       "    </tr>\n",
       "    <tr>\n",
       "      <td>2</td>\n",
       "      <td>6769</td>\n",
       "      <td>34663</td>\n",
       "      <td>73355</td>\n",
       "      <td>677.88</td>\n",
       "      <td>5</td>\n",
       "      <td>62</td>\n",
       "      <td>1</td>\n",
       "      <td>8</td>\n",
       "      <td>0</td>\n",
       "      <td>1</td>\n",
       "      <td>...</td>\n",
       "      <td>0</td>\n",
       "      <td>54</td>\n",
       "      <td>172810.0</td>\n",
       "      <td>373</td>\n",
       "      <td>79663</td>\n",
       "      <td>0</td>\n",
       "      <td>5817</td>\n",
       "      <td>102</td>\n",
       "      <td>0</td>\n",
       "      <td>259268</td>\n",
       "    </tr>\n",
       "    <tr>\n",
       "      <td>3</td>\n",
       "      <td>6856</td>\n",
       "      <td>74183</td>\n",
       "      <td>18151</td>\n",
       "      <td>229.61</td>\n",
       "      <td>5</td>\n",
       "      <td>62</td>\n",
       "      <td>1</td>\n",
       "      <td>8</td>\n",
       "      <td>0</td>\n",
       "      <td>1</td>\n",
       "      <td>...</td>\n",
       "      <td>0</td>\n",
       "      <td>32</td>\n",
       "      <td>112902.0</td>\n",
       "      <td>288</td>\n",
       "      <td>69240</td>\n",
       "      <td>0</td>\n",
       "      <td>0</td>\n",
       "      <td>104</td>\n",
       "      <td>0</td>\n",
       "      <td>1423892</td>\n",
       "    </tr>\n",
       "    <tr>\n",
       "      <td>4</td>\n",
       "      <td>6881</td>\n",
       "      <td>125183</td>\n",
       "      <td>48320</td>\n",
       "      <td>513.80</td>\n",
       "      <td>5</td>\n",
       "      <td>0</td>\n",
       "      <td>0</td>\n",
       "      <td>0</td>\n",
       "      <td>0</td>\n",
       "      <td>1</td>\n",
       "      <td>...</td>\n",
       "      <td>0</td>\n",
       "      <td>67</td>\n",
       "      <td>45823.0</td>\n",
       "      <td>457</td>\n",
       "      <td>59360</td>\n",
       "      <td>0</td>\n",
       "      <td>0</td>\n",
       "      <td>102</td>\n",
       "      <td>0</td>\n",
       "      <td>554270</td>\n",
       "    </tr>\n",
       "    <tr>\n",
       "      <td>...</td>\n",
       "      <td>...</td>\n",
       "      <td>...</td>\n",
       "      <td>...</td>\n",
       "      <td>...</td>\n",
       "      <td>...</td>\n",
       "      <td>...</td>\n",
       "      <td>...</td>\n",
       "      <td>...</td>\n",
       "      <td>...</td>\n",
       "      <td>...</td>\n",
       "      <td>...</td>\n",
       "      <td>...</td>\n",
       "      <td>...</td>\n",
       "      <td>...</td>\n",
       "      <td>...</td>\n",
       "      <td>...</td>\n",
       "      <td>...</td>\n",
       "      <td>...</td>\n",
       "      <td>...</td>\n",
       "      <td>...</td>\n",
       "      <td>...</td>\n",
       "    </tr>\n",
       "    <tr>\n",
       "      <td>2195</td>\n",
       "      <td>6288</td>\n",
       "      <td>168</td>\n",
       "      <td>122669</td>\n",
       "      <td>518.22</td>\n",
       "      <td>5</td>\n",
       "      <td>62</td>\n",
       "      <td>1</td>\n",
       "      <td>2</td>\n",
       "      <td>0</td>\n",
       "      <td>0</td>\n",
       "      <td>...</td>\n",
       "      <td>0</td>\n",
       "      <td>33</td>\n",
       "      <td>24013.0</td>\n",
       "      <td>306</td>\n",
       "      <td>20984</td>\n",
       "      <td>0</td>\n",
       "      <td>621</td>\n",
       "      <td>93</td>\n",
       "      <td>0</td>\n",
       "      <td>1867322</td>\n",
       "    </tr>\n",
       "    <tr>\n",
       "      <td>2196</td>\n",
       "      <td>6735</td>\n",
       "      <td>52305</td>\n",
       "      <td>93073</td>\n",
       "      <td>856.92</td>\n",
       "      <td>5</td>\n",
       "      <td>71</td>\n",
       "      <td>0</td>\n",
       "      <td>4</td>\n",
       "      <td>0</td>\n",
       "      <td>0</td>\n",
       "      <td>...</td>\n",
       "      <td>0</td>\n",
       "      <td>33</td>\n",
       "      <td>33048.0</td>\n",
       "      <td>151</td>\n",
       "      <td>42258</td>\n",
       "      <td>0</td>\n",
       "      <td>4834</td>\n",
       "      <td>36</td>\n",
       "      <td>0</td>\n",
       "      <td>1867338</td>\n",
       "    </tr>\n",
       "    <tr>\n",
       "      <td>2197</td>\n",
       "      <td>6769</td>\n",
       "      <td>139984</td>\n",
       "      <td>73906</td>\n",
       "      <td>1036.28</td>\n",
       "      <td>4</td>\n",
       "      <td>62</td>\n",
       "      <td>0</td>\n",
       "      <td>2</td>\n",
       "      <td>0</td>\n",
       "      <td>0</td>\n",
       "      <td>...</td>\n",
       "      <td>0</td>\n",
       "      <td>33</td>\n",
       "      <td>100822.0</td>\n",
       "      <td>343</td>\n",
       "      <td>78638</td>\n",
       "      <td>1</td>\n",
       "      <td>5817</td>\n",
       "      <td>102</td>\n",
       "      <td>0</td>\n",
       "      <td>311305</td>\n",
       "    </tr>\n",
       "    <tr>\n",
       "      <td>2198</td>\n",
       "      <td>6189</td>\n",
       "      <td>147868</td>\n",
       "      <td>147049</td>\n",
       "      <td>755.52</td>\n",
       "      <td>5</td>\n",
       "      <td>62</td>\n",
       "      <td>1</td>\n",
       "      <td>2</td>\n",
       "      <td>1</td>\n",
       "      <td>0</td>\n",
       "      <td>...</td>\n",
       "      <td>0</td>\n",
       "      <td>33</td>\n",
       "      <td>115246.0</td>\n",
       "      <td>446</td>\n",
       "      <td>90012</td>\n",
       "      <td>0</td>\n",
       "      <td>5817</td>\n",
       "      <td>102</td>\n",
       "      <td>0</td>\n",
       "      <td>1139543</td>\n",
       "    </tr>\n",
       "    <tr>\n",
       "      <td>2199</td>\n",
       "      <td>3348</td>\n",
       "      <td>145082</td>\n",
       "      <td>116795</td>\n",
       "      <td>652.61</td>\n",
       "      <td>5</td>\n",
       "      <td>62</td>\n",
       "      <td>1</td>\n",
       "      <td>8</td>\n",
       "      <td>0</td>\n",
       "      <td>0</td>\n",
       "      <td>...</td>\n",
       "      <td>0</td>\n",
       "      <td>33</td>\n",
       "      <td>143329.0</td>\n",
       "      <td>380</td>\n",
       "      <td>54238</td>\n",
       "      <td>0</td>\n",
       "      <td>6580</td>\n",
       "      <td>38</td>\n",
       "      <td>0</td>\n",
       "      <td>694835</td>\n",
       "    </tr>\n",
       "  </tbody>\n",
       "</table>\n",
       "<p>2200 rows × 22 columns</p>\n",
       "</div>"
      ],
      "text/plain": [
       "      acqic   bacno    cano    conam  contp  csmcu  ecfg  etymd  flg_3dsmk  \\\n",
       "0      3288   88538   81033     1.38      5     62     1      8          0   \n",
       "1      6881  157859   82925   513.80      5      0     0      0          0   \n",
       "2      6769   34663   73355   677.88      5     62     1      8          0   \n",
       "3      6856   74183   18151   229.61      5     62     1      8          0   \n",
       "4      6881  125183   48320   513.80      5      0     0      0          0   \n",
       "...     ...     ...     ...      ...    ...    ...   ...    ...        ...   \n",
       "2195   6288     168  122669   518.22      5     62     1      2          0   \n",
       "2196   6735   52305   93073   856.92      5     71     0      4          0   \n",
       "2197   6769  139984   73906  1036.28      4     62     0      2          0   \n",
       "2198   6189  147868  147049   755.52      5     62     1      2          1   \n",
       "2199   3348  145082  116795   652.61      5     62     1      8          0   \n",
       "\n",
       "      fraud_ind  ...  iterm  locdt     loctm  mcc  mchno  ovrlt  scity  stocn  \\\n",
       "0             1  ...      0      7   45457.0  337  20984      0    621     93   \n",
       "1             1  ...      0     23  154137.0  457  59360      0      0    102   \n",
       "2             1  ...      0     54  172810.0  373  79663      0   5817    102   \n",
       "3             1  ...      0     32  112902.0  288  69240      0      0    104   \n",
       "4             1  ...      0     67   45823.0  457  59360      0      0    102   \n",
       "...         ...  ...    ...    ...       ...  ...    ...    ...    ...    ...   \n",
       "2195          0  ...      0     33   24013.0  306  20984      0    621     93   \n",
       "2196          0  ...      0     33   33048.0  151  42258      0   4834     36   \n",
       "2197          0  ...      0     33  100822.0  343  78638      1   5817    102   \n",
       "2198          0  ...      0     33  115246.0  446  90012      0   5817    102   \n",
       "2199          0  ...      0     33  143329.0  380  54238      0   6580     38   \n",
       "\n",
       "      stscd    txkey  \n",
       "0         2   651056  \n",
       "1         0   503429  \n",
       "2         0   259268  \n",
       "3         0  1423892  \n",
       "4         0   554270  \n",
       "...     ...      ...  \n",
       "2195      0  1867322  \n",
       "2196      0  1867338  \n",
       "2197      0   311305  \n",
       "2198      0  1139543  \n",
       "2199      0   694835  \n",
       "\n",
       "[2200 rows x 22 columns]"
      ]
     },
     "metadata": {},
     "output_type": "display_data"
    }
   ],
   "source": [
    "display(data)"
   ]
  },
  {
   "cell_type": "code",
   "execution_count": 17,
   "metadata": {
    "ExecuteTime": {
     "end_time": "2020-05-31T09:05:54.293278Z",
     "start_time": "2020-05-31T09:05:54.276956Z"
    }
   },
   "outputs": [
    {
     "name": "stdout",
     "output_type": "stream",
     "text": [
      "(100, 22) (100, 22)\n",
      "(1000, 22) (1000, 22)\n"
     ]
    }
   ],
   "source": [
    "value_1 = data[0:1100]\n",
    "value_0 = data[1100:]\n",
    "\n",
    "train_value_1 = value_1[0:1000]\n",
    "train_value_0 = value_0[0:1000]\n",
    "\n",
    "test_value_1 = value_1[1000:]\n",
    "test_value_0 = value_0[1000:]\n",
    "print(test_value_1.shape, test_value_0.shape)\n",
    "print(train_value_1.shape, train_value_0.shape)"
   ]
  },
  {
   "cell_type": "code",
   "execution_count": 18,
   "metadata": {
    "ExecuteTime": {
     "end_time": "2020-05-31T09:06:04.117414Z",
     "start_time": "2020-05-31T09:06:03.820401Z"
    }
   },
   "outputs": [
    {
     "name": "stderr",
     "output_type": "stream",
     "text": [
      "/home/sean/anaconda3/lib/python3.7/site-packages/sklearn/svm/base.py:193: FutureWarning: The default value of gamma will change from 'auto' to 'scale' in version 0.22 to account better for unscaled features. Set gamma explicitly to 'auto' or 'scale' to avoid this warning.\n",
      "  \"avoid this warning.\", FutureWarning)\n"
     ]
    },
    {
     "name": "stdout",
     "output_type": "stream",
     "text": [
      "0.5\n"
     ]
    }
   ],
   "source": [
    "train_data = pd.concat([train_value_1, train_value_0], ignore_index = True)\n",
    "new_train_data = shuffle(train_data)\n",
    "\n",
    "test_data = pd.concat([test_value_1, test_value_0], ignore_index = True)\n",
    "new_test_data = shuffle(test_data)\n",
    "\n",
    "train_x  =new_train_data.drop(['fraud_ind'], axis = 1)\n",
    "test_x  =new_test_data.drop(['fraud_ind'], axis = 1)\n",
    "train_y  =new_train_data['fraud_ind']\n",
    "test_y  =new_test_data['fraud_ind']\n",
    "\n"
   ]
  },
  {
   "cell_type": "code",
   "execution_count": 38,
   "metadata": {
    "ExecuteTime": {
     "end_time": "2020-05-31T09:34:23.384168Z",
     "start_time": "2020-05-31T09:34:22.017355Z"
    }
   },
   "outputs": [
    {
     "name": "stderr",
     "output_type": "stream",
     "text": [
      "/home/sean/anaconda3/lib/python3.7/site-packages/sklearn/svm/base.py:193: FutureWarning: The default value of gamma will change from 'auto' to 'scale' in version 0.22 to account better for unscaled features. Set gamma explicitly to 'auto' or 'scale' to avoid this warning.\n",
      "  \"avoid this warning.\", FutureWarning)\n"
     ]
    },
    {
     "name": "stdout",
     "output_type": "stream",
     "text": [
      "0.5\n"
     ]
    }
   ],
   "source": [
    "clf_svc = svm.SVC(probability=True, random_state = 0)\n",
    "clf_svc.fit(train_x, train_y)\n",
    "\n",
    "pred = clf_svc.predict(test_x)\n",
    "# print(pred)\n",
    "acc = accuracy_score(test_y, pred)\n",
    "print(acc)"
   ]
  },
  {
   "cell_type": "code",
   "execution_count": 39,
   "metadata": {
    "ExecuteTime": {
     "end_time": "2020-05-31T09:34:24.064664Z",
     "start_time": "2020-05-31T09:34:24.030148Z"
    }
   },
   "outputs": [
    {
     "name": "stdout",
     "output_type": "stream",
     "text": [
      "0.945\n"
     ]
    }
   ],
   "source": [
    "clf_tree = tree.DecisionTreeClassifier(random_state = 0)\n",
    "clf_tree.fit(train_x, train_y)\n",
    "\n",
    "pred = clf_tree.predict(test_x)\n",
    "\n",
    "acc = accuracy_score(test_y, pred)\n",
    "print(acc)"
   ]
  },
  {
   "cell_type": "code",
   "execution_count": 40,
   "metadata": {
    "ExecuteTime": {
     "end_time": "2020-05-31T09:34:26.109088Z",
     "start_time": "2020-05-31T09:34:24.673714Z"
    }
   },
   "outputs": [
    {
     "name": "stdout",
     "output_type": "stream",
     "text": [
      "0.58\n"
     ]
    },
    {
     "name": "stderr",
     "output_type": "stream",
     "text": [
      "/home/sean/anaconda3/lib/python3.7/site-packages/sklearn/neural_network/multilayer_perceptron.py:566: ConvergenceWarning: Stochastic Optimizer: Maximum iterations (200) reached and the optimization hasn't converged yet.\n",
      "  % self.max_iter, ConvergenceWarning)\n"
     ]
    }
   ],
   "source": [
    "clf_mlp = MLPClassifier(hidden_layer_sizes = (20, ), random_state = 0)\n",
    "clf_mlp.fit(train_x, train_y)\n",
    "\n",
    "pred = clf_mlp.predict(test_x)\n",
    "acc = accuracy_score(test_y, pred)\n",
    "print(acc)"
   ]
  },
  {
   "cell_type": "code",
   "execution_count": 41,
   "metadata": {
    "ExecuteTime": {
     "end_time": "2020-05-31T09:34:36.756745Z",
     "start_time": "2020-05-31T09:34:33.995163Z"
    }
   },
   "outputs": [
    {
     "name": "stderr",
     "output_type": "stream",
     "text": [
      "/home/sean/anaconda3/lib/python3.7/site-packages/sklearn/svm/base.py:193: FutureWarning: The default value of gamma will change from 'auto' to 'scale' in version 0.22 to account better for unscaled features. Set gamma explicitly to 'auto' or 'scale' to avoid this warning.\n",
      "  \"avoid this warning.\", FutureWarning)\n"
     ]
    },
    {
     "name": "stdout",
     "output_type": "stream",
     "text": [
      "0.93\n"
     ]
    },
    {
     "name": "stderr",
     "output_type": "stream",
     "text": [
      "/home/sean/anaconda3/lib/python3.7/site-packages/sklearn/neural_network/multilayer_perceptron.py:566: ConvergenceWarning: Stochastic Optimizer: Maximum iterations (200) reached and the optimization hasn't converged yet.\n",
      "  % self.max_iter, ConvergenceWarning)\n"
     ]
    }
   ],
   "source": [
    "\n",
    "vt = VotingClassifier(estimators = [('svc', clf_svc),\n",
    "                                   ('tree', clf_tree),\n",
    "                                   ('mlp', clf_mlp)],\n",
    "                        voting='soft')\n",
    "vt.fit(train_x, train_y)\n",
    "pred = vt.predict(test_x)\n",
    "\n",
    "acc = accuracy_score(test_y, pred)\n",
    "print(acc)"
   ]
  },
  {
   "cell_type": "code",
   "execution_count": 61,
   "metadata": {
    "ExecuteTime": {
     "end_time": "2020-05-31T09:51:37.065975Z",
     "start_time": "2020-05-31T09:51:27.437253Z"
    }
   },
   "outputs": [
    {
     "name": "stderr",
     "output_type": "stream",
     "text": [
      "/home/sean/anaconda3/lib/python3.7/site-packages/sklearn/model_selection/_split.py:1978: FutureWarning: The default value of cv will change from 3 to 5 in version 0.22. Specify it explicitly to silence this warning.\n",
      "  warnings.warn(CV_WARNING, FutureWarning)\n",
      "/home/sean/anaconda3/lib/python3.7/site-packages/sklearn/svm/base.py:193: FutureWarning: The default value of gamma will change from 'auto' to 'scale' in version 0.22 to account better for unscaled features. Set gamma explicitly to 'auto' or 'scale' to avoid this warning.\n",
      "  \"avoid this warning.\", FutureWarning)\n",
      "/home/sean/anaconda3/lib/python3.7/site-packages/sklearn/neural_network/multilayer_perceptron.py:566: ConvergenceWarning: Stochastic Optimizer: Maximum iterations (200) reached and the optimization hasn't converged yet.\n",
      "  % self.max_iter, ConvergenceWarning)\n",
      "/home/sean/anaconda3/lib/python3.7/site-packages/sklearn/svm/base.py:193: FutureWarning: The default value of gamma will change from 'auto' to 'scale' in version 0.22 to account better for unscaled features. Set gamma explicitly to 'auto' or 'scale' to avoid this warning.\n",
      "  \"avoid this warning.\", FutureWarning)\n",
      "/home/sean/anaconda3/lib/python3.7/site-packages/sklearn/neural_network/multilayer_perceptron.py:566: ConvergenceWarning: Stochastic Optimizer: Maximum iterations (200) reached and the optimization hasn't converged yet.\n",
      "  % self.max_iter, ConvergenceWarning)\n",
      "/home/sean/anaconda3/lib/python3.7/site-packages/sklearn/svm/base.py:193: FutureWarning: The default value of gamma will change from 'auto' to 'scale' in version 0.22 to account better for unscaled features. Set gamma explicitly to 'auto' or 'scale' to avoid this warning.\n",
      "  \"avoid this warning.\", FutureWarning)\n",
      "/home/sean/anaconda3/lib/python3.7/site-packages/sklearn/neural_network/multilayer_perceptron.py:566: ConvergenceWarning: Stochastic Optimizer: Maximum iterations (200) reached and the optimization hasn't converged yet.\n",
      "  % self.max_iter, ConvergenceWarning)\n",
      "/home/sean/anaconda3/lib/python3.7/site-packages/sklearn/model_selection/_search.py:814: DeprecationWarning: The default of the `iid` parameter will change from True to False in version 0.22 and will be removed in 0.24. This will change numeric results when test-set sizes are unequal.\n",
      "  DeprecationWarning)\n",
      "/home/sean/anaconda3/lib/python3.7/site-packages/sklearn/svm/base.py:193: FutureWarning: The default value of gamma will change from 'auto' to 'scale' in version 0.22 to account better for unscaled features. Set gamma explicitly to 'auto' or 'scale' to avoid this warning.\n",
      "  \"avoid this warning.\", FutureWarning)\n"
     ]
    },
    {
     "name": "stdout",
     "output_type": "stream",
     "text": [
      "0.93\n"
     ]
    },
    {
     "name": "stderr",
     "output_type": "stream",
     "text": [
      "/home/sean/anaconda3/lib/python3.7/site-packages/sklearn/neural_network/multilayer_perceptron.py:566: ConvergenceWarning: Stochastic Optimizer: Maximum iterations (200) reached and the optimization hasn't converged yet.\n",
      "  % self.max_iter, ConvergenceWarning)\n"
     ]
    }
   ],
   "source": [
    "\n",
    "param_grid = {}\n",
    "\n",
    "gs_vt = GridSearchCV(estimator = vt,\n",
    "                     param_grid = param_grid,\n",
    "                     scoring = 'accuracy')\n",
    "gs_vt.fit(train_x, train_y)\n",
    "pred = gs_vt.predict(test_x)\n",
    "acc = accuracy_score(test_y, pred)\n",
    "print(acc)"
   ]
  },
  {
   "cell_type": "code",
   "execution_count": 64,
   "metadata": {
    "ExecuteTime": {
     "end_time": "2020-05-31T09:54:31.079282Z",
     "start_time": "2020-05-31T09:54:31.071691Z"
    }
   },
   "outputs": [
    {
     "data": {
      "text/plain": [
       "{}"
      ]
     },
     "execution_count": 64,
     "metadata": {},
     "output_type": "execute_result"
    }
   ],
   "source": [
    "# dir(gs_vt)\n",
    "# gs_vt.best_estimator_\n",
    "gs_vt.best_params_"
   ]
  },
  {
   "cell_type": "code",
   "execution_count": 54,
   "metadata": {
    "ExecuteTime": {
     "end_time": "2020-05-31T09:39:21.882674Z",
     "start_time": "2020-05-31T09:39:16.620496Z"
    }
   },
   "outputs": [
    {
     "name": "stderr",
     "output_type": "stream",
     "text": [
      "/home/sean/anaconda3/lib/python3.7/site-packages/sklearn/svm/base.py:193: FutureWarning: The default value of gamma will change from 'auto' to 'scale' in version 0.22 to account better for unscaled features. Set gamma explicitly to 'auto' or 'scale' to avoid this warning.\n",
      "  \"avoid this warning.\", FutureWarning)\n"
     ]
    },
    {
     "name": "stdout",
     "output_type": "stream",
     "text": [
      "0.5\n",
      "0.945\n"
     ]
    },
    {
     "name": "stderr",
     "output_type": "stream",
     "text": [
      "/home/sean/anaconda3/lib/python3.7/site-packages/sklearn/neural_network/multilayer_perceptron.py:566: ConvergenceWarning: Stochastic Optimizer: Maximum iterations (200) reached and the optimization hasn't converged yet.\n",
      "  % self.max_iter, ConvergenceWarning)\n",
      "/home/sean/anaconda3/lib/python3.7/site-packages/sklearn/svm/base.py:193: FutureWarning: The default value of gamma will change from 'auto' to 'scale' in version 0.22 to account better for unscaled features. Set gamma explicitly to 'auto' or 'scale' to avoid this warning.\n",
      "  \"avoid this warning.\", FutureWarning)\n"
     ]
    },
    {
     "name": "stdout",
     "output_type": "stream",
     "text": [
      "0.58\n",
      "0.93\n"
     ]
    },
    {
     "name": "stderr",
     "output_type": "stream",
     "text": [
      "/home/sean/anaconda3/lib/python3.7/site-packages/sklearn/neural_network/multilayer_perceptron.py:566: ConvergenceWarning: Stochastic Optimizer: Maximum iterations (200) reached and the optimization hasn't converged yet.\n",
      "  % self.max_iter, ConvergenceWarning)\n"
     ]
    }
   ],
   "source": [
    "# dir(vt)\n",
    "vt.estimators_[0].fit(train_x, train_y)\n",
    "svc_pred = vt.estimators_[0].predict(test_x)\n",
    "svc_acc = accuracy_score(test_y, svc_pred)\n",
    "print(svc_acc)\n",
    "\n",
    "vt.estimators_[1].fit(train_x, train_y)\n",
    "tree_pred = vt.estimators_[1].predict(test_x)\n",
    "tree_acc = accuracy_score(test_y, tree_pred)\n",
    "print(tree_acc)\n",
    "\n",
    "vt.estimators_[2].fit(train_x, train_y)\n",
    "mlp_pred = vt.estimators_[2].predict(test_x)\n",
    "mlp_acc = accuracy_score(test_y, mlp_pred)\n",
    "print(mlp_acc)\n",
    "\n",
    "vt.fit(train_x, train_y)\n",
    "pred = vt.predict(test_x)\n",
    "acc = accuracy_score(test_y, pred)\n",
    "print(acc)\n"
   ]
  },
  {
   "cell_type": "code",
   "execution_count": 69,
   "metadata": {
    "ExecuteTime": {
     "end_time": "2020-05-31T10:23:45.149129Z",
     "start_time": "2020-05-31T10:23:45.145437Z"
    }
   },
   "outputs": [],
   "source": [
    "# param_weights = list(itertools.permutations(range(0, 3)))\n",
    "# print(param_weights)\n",
    "# gs_vt.best_estimator_"
   ]
  },
  {
   "cell_type": "code",
   "execution_count": 81,
   "metadata": {
    "ExecuteTime": {
     "end_time": "2020-05-31T10:32:04.803493Z",
     "start_time": "2020-05-31T10:32:04.605975Z"
    }
   },
   "outputs": [
    {
     "name": "stdout",
     "output_type": "stream",
     "text": [
      "分类报告:\n",
      "               precision    recall  f1-score   support\n",
      "\n",
      "           0       0.90      0.97      0.93       100\n",
      "           1       0.97      0.89      0.93       100\n",
      "\n",
      "    accuracy                           0.93       200\n",
      "   macro avg       0.93      0.93      0.93       200\n",
      "weighted avg       0.93      0.93      0.93       200\n",
      "\n"
     ]
    },
    {
     "data": {
      "image/png": "[encoded data removed]",
      "text/plain": [
       "<Figure size 504x504 with 1 Axes>"
      ]
     },
     "metadata": {},
     "output_type": "display_data"
    }
   ],
   "source": [
    "# print('混淆矩阵输出:\\n',confusion_matrix(test_y,pred,labels=[0, 1]))#混淆矩阵输出\n",
    "print('分类报告:\\n', classification_report(test_y, pred,labels=[0, 1]))#分类报告输出\n",
    "\n",
    "plt.rc('font', size=30) \n",
    "fig, axis = plt.subplots(1,1, figsize= (7, 7))\n",
    "axis.set_ylabel('True label', size = 15)\n",
    "axis.set_xlabel('Predict label', size = 15)\n",
    "confmat = confusion_matrix(test_y,pred,labels=[0, 1])\n",
    "axis.matshow(confmat, cmap = plt.cm.Blues, alpha = 0.3)\n",
    "axis.set_title('title')\n",
    "axis.set_xticks([])\n",
    "axis.set_yticks([])\n",
    "for idx_i in range(confmat.shape[0]):\n",
    "    for idx_j in range(confmat.shape[1]):\n",
    "        axis.text(x=idx_j, y=idx_i, s=confmat[idx_i, idx_j], va='center', ha='center')\n",
    "\n",
    "for item in ( [axis.xaxis.label, axis.yaxis.label] ):\n",
    "    item.set_fontsize(20)\n",
    "axis.title.set_fontsize(15)\n"
   ]
  },
  {
   "cell_type": "markdown",
   "metadata": {},
   "source": [
    "https://blog.csdn.net/m0_37725003/article/details/81095555\n",
    "https://blog.csdn.net/shinian1987/article/details/50384518\n",
    "https://zhpmatrix.github.io/2019/06/29/sklearn-classification-report/\n",
    "https://chrome.google.com/webstore/detail/katalon-recorder-selenium/ljdobmomdgdljniojadhoplhkpialdid?hl=zh-TW"
   ]
  }
 ],
 "metadata": {
  "kernelspec": {
   "display_name": "Python 3",
   "language": "python",
   "name": "python3"
  },
  "language_info": {
   "codemirror_mode": {
    "name": "ipython",
    "version": 3
   },
   "file_extension": ".py",
   "mimetype": "text/x-python",
   "name": "python",
   "nbconvert_exporter": "python",
   "pygments_lexer": "ipython3",
   "version": "3.7.4"
  },
  "nbTranslate": {
   "displayLangs": [
    "*"
   ],
   "hotkey": "alt-t",
   "langInMainMenu": true,
   "sourceLang": "en",
   "targetLang": "fr",
   "useGoogleTranslate": true
  },
  "toc": {
   "base_numbering": 1,
   "nav_menu": {},
   "number_sections": true,
   "sideBar": true,
   "skip_h1_title": false,
   "title_cell": "Table of Contents",
   "title_sidebar": "Contents",
   "toc_cell": false,
   "toc_position": {},
   "toc_section_display": true,
   "toc_window_display": false
  },
  "varInspector": {
   "cols": {
    "lenName": 16,
    "lenType": 16,
    "lenVar": 40
   },
   "kernels_config": {
    "python": {
     "delete_cmd_postfix": "",
     "delete_cmd_prefix": "del ",
     "library": "var_list.py",
     "varRefreshCmd": "print(var_dic_list())"
    },
    "r": {
     "delete_cmd_postfix": ") ",
     "delete_cmd_prefix": "rm(",
     "library": "var_list.r",
     "varRefreshCmd": "cat(var_dic_list()) "
    }
   },
   "types_to_exclude": [
    "module",
    "function",
    "builtin_function_or_method",
    "instance",
    "_Feature"
   ],
   "window_display": false
  }
 },
 "nbformat": 4,
 "nbformat_minor": 2
}
