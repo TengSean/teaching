{
 "cells": [
  {
   "cell_type": "code",
   "execution_count": 17,
   "metadata": {
    "ExecuteTime": {
     "end_time": "2020-04-08T13:45:12.023543Z",
     "start_time": "2020-04-08T13:45:12.010718Z"
    }
   },
   "outputs": [],
   "source": [
    "\n",
    "\n",
    "\n",
    "import datetime\n",
    "import time\n",
    "import urllib.request\n",
    "\n",
    "def getPriceData(ticker, start, end):\n",
    "    start_timeArray  =time.strptime(start, \"%Y-%m-%d\")\n",
    "    start_timeStamp = int(time.mktime(start_timeArray))\n",
    "    \n",
    "    \n",
    "    end_timeArray = datetime.datetime.strptime(end, \"%Y-%m-%d\")\n",
    "    end_timeArray += datetime.timedelta(days = 1)\n",
    "    end_timeStamp = int(time.mktime(end_timeArray.timetuple()))\n",
    "    \n",
    "    url = \"https://query1.finace.yahoo.com/v7/finace/download/\" + str(ticker) + \".TW?period1=\" + str(start_timeStamp) + \"&period2=\" + str(end_timeStamp) + \"&interval=1d&events=history\"\n",
    "    print(url)\n",
    "    #     urllib.request.urlretrieve(url, str(ticker) + \".csv\")"
   ]
  },
  {
   "cell_type": "code",
   "execution_count": 18,
   "metadata": {
    "ExecuteTime": {
     "end_time": "2020-04-08T13:45:12.663360Z",
     "start_time": "2020-04-08T13:45:12.653951Z"
    }
   },
   "outputs": [
    {
     "name": "stdout",
     "output_type": "stream",
     "text": [
      "https://query1.finace.yahoo.com/v7/finace/download/2330.TW?period1=1584288000&period2=1584720000&interval=1d&events=history\n"
     ]
    }
   ],
   "source": [
    "ticker = 2330\n",
    "start = \"2020-03-16\"\n",
    "end = \"2020-03-20\"\n",
    "getPriceData(ticker, start, end)"
   ]
  },
  {
   "cell_type": "code",
   "execution_count": 4,
   "metadata": {
    "ExecuteTime": {
     "end_time": "2020-04-08T12:56:35.809445Z",
     "start_time": "2020-04-08T12:56:35.801759Z"
    }
   },
   "outputs": [
    {
     "name": "stdout",
     "output_type": "stream",
     "text": [
      "time.struct_time(tm_year=2020, tm_mon=3, tm_mday=16, tm_hour=0, tm_min=0, tm_sec=0, tm_wday=0, tm_yday=76, tm_isdst=-1)\n"
     ]
    }
   ],
   "source": [
    "print(start_timeArray)"
   ]
  },
  {
   "cell_type": "code",
   "execution_count": null,
   "metadata": {},
   "outputs": [],
   "source": []
  }
 ],
 "metadata": {
  "kernelspec": {
   "display_name": "Python 3",
   "language": "python",
   "name": "python3"
  },
  "language_info": {
   "codemirror_mode": {
    "name": "ipython",
    "version": 3
   },
   "file_extension": ".py",
   "mimetype": "text/x-python",
   "name": "python",
   "nbconvert_exporter": "python",
   "pygments_lexer": "ipython3",
   "version": "3.7.4"
  },
  "nbTranslate": {
   "displayLangs": [
    "*"
   ],
   "hotkey": "alt-t",
   "langInMainMenu": true,
   "sourceLang": "en",
   "targetLang": "fr",
   "useGoogleTranslate": true
  },
  "toc": {
   "base_numbering": 1,
   "nav_menu": {},
   "number_sections": true,
   "sideBar": true,
   "skip_h1_title": false,
   "title_cell": "Table of Contents",
   "title_sidebar": "Contents",
   "toc_cell": false,
   "toc_position": {},
   "toc_section_display": true,
   "toc_window_display": false
  },
  "varInspector": {
   "cols": {
    "lenName": 16,
    "lenType": 16,
    "lenVar": 40
   },
   "kernels_config": {
    "python": {
     "delete_cmd_postfix": "",
     "delete_cmd_prefix": "del ",
     "library": "var_list.py",
     "varRefreshCmd": "print(var_dic_list())"
    },
    "r": {
     "delete_cmd_postfix": ") ",
     "delete_cmd_prefix": "rm(",
     "library": "var_list.r",
     "varRefreshCmd": "cat(var_dic_list()) "
    }
   },
   "types_to_exclude": [
    "module",
    "function",
    "builtin_function_or_method",
    "instance",
    "_Feature"
   ],
   "window_display": false
  }
 },
 "nbformat": 4,
 "nbformat_minor": 2
}
