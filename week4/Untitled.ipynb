{
 "cells": [
  {
   "cell_type": "code",
   "execution_count": 2,
   "metadata": {
    "ExecuteTime": {
     "end_time": "2020-05-06T12:03:34.238890Z",
     "start_time": "2020-05-06T12:03:34.232278Z"
    }
   },
   "outputs": [],
   "source": [
    "\n",
    "import datetime\n",
    "\n",
    "import smtplib\n",
    "from email.mime.multipart import MIMEMultipart\n",
    "from email.mime.text import MIMEText\n",
    "from email.mime.base import MIMEBase\n",
    "from email import encoders\n",
    "import datetime\n",
    "import ssl\n"
   ]
  },
  {
   "cell_type": "code",
   "execution_count": null,
   "metadata": {},
   "outputs": [],
   "source": [
    "now = datetime.datetime.now()\n",
    "\n",
    "y - now.year - 1911\n",
    "m = now.month - 1\n",
    "\n",
    "saveEarningInfo(y, m)\n",
    "targets = get_targets(y, m)\n",
    "\n"
   ]
  },
  {
   "cell_type": "code",
   "execution_count": null,
   "metadata": {},
   "outputs": [],
   "source": [
    "def saveEarningInfo(y, m):\n",
    "    folder = '../'\n",
    "\n"
   ]
  },
  {
   "cell_type": "code",
   "execution_count": 6,
   "metadata": {
    "ExecuteTime": {
     "end_time": "2020-05-06T12:05:21.347663Z",
     "start_time": "2020-05-06T12:05:21.221135Z"
    }
   },
   "outputs": [
    {
     "name": "stdout",
     "output_type": "stream",
     "text": [
      "100_1\t101_10\t102_11\t103_12\t104_2\t105_3\t106_4\t107_5\t108_6  99_4\r\n",
      "100_10\t101_11\t102_12\t103_2\t104_3\t105_4\t106_5\t107_6\t108_7  99_5\r\n",
      "100_11\t101_12\t102_2\t103_3\t104_4\t105_5\t106_6\t107_7\t108_8  99_6\r\n",
      "100_12\t101_2\t102_3\t103_4\t104_5\t105_6\t106_7\t107_8\t108_9  99_7\r\n",
      "100_2\t101_3\t102_4\t103_5\t104_6\t105_7\t106_8\t107_9\t109_1  99_8\r\n",
      "100_3\t101_4\t102_5\t103_6\t104_7\t105_8\t106_9\t108_1\t109_2  99_9\r\n",
      "100_4\t101_5\t102_6\t103_7\t104_8\t105_9\t107_1\t108_10\t109_3\r\n",
      "100_5\t101_6\t102_7\t103_8\t104_9\t106_1\t107_10\t108_11\t99_1\r\n",
      "100_6\t101_7\t102_8\t103_9\t105_1\t106_10\t107_11\t108_12\t99_10\r\n",
      "100_7\t101_8\t102_9\t104_1\t105_10\t106_11\t107_12\t108_2\t99_11\r\n",
      "100_8\t101_9\t103_1\t104_10\t105_11\t106_12\t107_2\t108_3\t99_12\r\n",
      "100_9\t102_1\t103_10\t104_11\t105_12\t106_2\t107_3\t108_4\t99_2\r\n",
      "101_1\t102_10\t103_11\t104_12\t105_2\t106_3\t107_4\t108_5\t99_3\r\n"
     ]
    }
   ],
   "source": [
    "!ls ../class_hw/hw4_1/data/earning"
   ]
  },
  {
   "cell_type": "code",
   "execution_count": null,
   "metadata": {},
   "outputs": [],
   "source": []
  },
  {
   "cell_type": "code",
   "execution_count": null,
   "metadata": {},
   "outputs": [],
   "source": [
    "gmail_user = 'e125040121@gmail.com'\n",
    "gmail_password = '14254125'\n",
    "from_address = gmail_user\n",
    "\n",
    "to_address = ['e125040121@gmail.com']\n",
    "subjects = 'demo - '+ str(now)"
   ]
  }
 ],
 "metadata": {
  "kernelspec": {
   "display_name": "Python 3",
   "language": "python",
   "name": "python3"
  },
  "language_info": {
   "codemirror_mode": {
    "name": "ipython",
    "version": 3
   },
   "file_extension": ".py",
   "mimetype": "text/x-python",
   "name": "python",
   "nbconvert_exporter": "python",
   "pygments_lexer": "ipython3",
   "version": "3.7.4"
  },
  "nbTranslate": {
   "displayLangs": [
    "*"
   ],
   "hotkey": "alt-t",
   "langInMainMenu": true,
   "sourceLang": "en",
   "targetLang": "fr",
   "useGoogleTranslate": true
  },
  "toc": {
   "base_numbering": 1,
   "nav_menu": {},
   "number_sections": true,
   "sideBar": true,
   "skip_h1_title": false,
   "title_cell": "Table of Contents",
   "title_sidebar": "Contents",
   "toc_cell": false,
   "toc_position": {},
   "toc_section_display": true,
   "toc_window_display": false
  },
  "varInspector": {
   "cols": {
    "lenName": 16,
    "lenType": 16,
    "lenVar": 40
   },
   "kernels_config": {
    "python": {
     "delete_cmd_postfix": "",
     "delete_cmd_prefix": "del ",
     "library": "var_list.py",
     "varRefreshCmd": "print(var_dic_list())"
    },
    "r": {
     "delete_cmd_postfix": ") ",
     "delete_cmd_prefix": "rm(",
     "library": "var_list.r",
     "varRefreshCmd": "cat(var_dic_list()) "
    }
   },
   "types_to_exclude": [
    "module",
    "function",
    "builtin_function_or_method",
    "instance",
    "_Feature"
   ],
   "window_display": false
  }
 },
 "nbformat": 4,
 "nbformat_minor": 2
}
