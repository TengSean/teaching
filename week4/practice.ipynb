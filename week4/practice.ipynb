{
 "cells": [
  {
   "cell_type": "markdown",
   "metadata": {},
   "source": [
    "## 廣義字符\n",
    "\n",
    "|   |   |\n",
    "|:-:|:-:|\n",
    "|  \\A |  批配字串開頭  |\n",
    "|  \\Z |  匹配字串結尾,如果有任何換行字符,它將在換行符號之前匹配  |\n",
    "|  \\z |  匹配字串的結尾  |\n",
    "|  \\G |  \\G用於匹配最後一次匹配結束的點  |\n",
    "|  \\b |  匹配在開頭或結尾的空字元  |\n",
    "|  \\B |  匹配不在開頭或結尾的空字符  |\n",
    "|  \\n, \\t, etc |  \\n用於匹配換行字符, \\t匹配分隔符  |\n",
    "|  \\w |  匹配單詞  |\n",
    "|  \\W |  匹配非單詞  |\n",
    "|  \\s |  匹配空格,\\s等於[\\t \\n \\r \\n]  |\n",
    "|  \\S |  匹配非空格  |\n",
    "|  \\d |  \\d等於[0 - 9] 匹配字串中的數字  |\n",
    "|  \\D |  匹配非數字  |\n"
   ]
  },
  {
   "cell_type": "code",
   "execution_count": 8,
   "metadata": {
    "ExecuteTime": {
     "end_time": "2020-05-06T08:44:02.268056Z",
     "start_time": "2020-05-06T08:44:02.254030Z"
    }
   },
   "outputs": [
    {
     "name": "stdout",
     "output_type": "stream",
     "text": [
      "<re.Match object; span=(4, 7), match='r3n'>\n",
      "<re.Match object; span=(0, 3), match='run'>\n",
      "<re.Match object; span=(4, 7), match='r\\tn'>\n",
      "<re.Match object; span=(0, 3), match='run'>\n",
      "<re.Match object; span=(0, 3), match='run'>\n",
      "<re.Match object; span=(4, 7), match='r\\tn'>\n"
     ]
    }
   ],
   "source": [
    "import re\n",
    "\n",
    "string = 'run r3n'\n",
    "pattern1 = r'r\\dn'\n",
    "pattern2 = r'r\\Dn'\n",
    "result1 = re.search(pattern1, string)\n",
    "result2 = re.search(pattern2, string)\n",
    "print(result1)\n",
    "print(result2)\n",
    "\n",
    "string = \"run r\\tn\"\n",
    "pattern1 = r'r\\sn'\n",
    "pattern2 = r'r\\Sn'\n",
    "result1 = re.search(pattern1, string)\n",
    "result2 = re.search(pattern2, string)\n",
    "\n",
    "print(result1)\n",
    "print(result2)\n",
    "\n",
    "string = 'run r\\tn'\n",
    "pattern1 = r'r\\wn'\n",
    "pattern2 = r'r\\Wn'\n",
    "result1 = re.search(pattern1, string)\n",
    "result2 = re.search(pattern2, string)\n",
    "\n",
    "print(result1)\n",
    "print(result2)\n"
   ]
  },
  {
   "cell_type": "code",
   "execution_count": 11,
   "metadata": {
    "ExecuteTime": {
     "end_time": "2020-05-06T09:41:18.771855Z",
     "start_time": "2020-05-06T09:41:18.762443Z"
    }
   },
   "outputs": [
    {
     "name": "stdout",
     "output_type": "stream",
     "text": [
      "<re.Match object; span=(0, 1), match='A'>\n",
      "<re.Match object; span=(9, 10), match='B'>\n",
      "<re.Match object; span=(2, 5), match='ran'>\n"
     ]
    }
   ],
   "source": [
    "string1 = 'A run to B'\n",
    "string2 = 'A ran to B'\n",
    "pattern1 = R'^A'\n",
    "pattern2 = r'B$'\n",
    "pattern3 = r'r.n'\n",
    "result1 = re.search(pattern1, string1)\n",
    "result2 = re.search(pattern2, string2)\n",
    "result3 = re.search(pattern3, string2)\n",
    "print(result1)\n",
    "print(result2)\n",
    "print(result3)\n"
   ]
  },
  {
   "cell_type": "code",
   "execution_count": 12,
   "metadata": {
    "ExecuteTime": {
     "end_time": "2020-05-06T09:42:19.399485Z",
     "start_time": "2020-05-06T09:42:19.386472Z"
    }
   },
   "outputs": [
    {
     "name": "stdout",
     "output_type": "stream",
     "text": [
      "<re.Match object; span=(0, 4), match='NTHU'>\n",
      "<re.Match object; span=(0, 6), match='NTHUQF'>\n",
      "<re.Match object; span=(0, 4), match='NTHU'>\n"
     ]
    }
   ],
   "source": [
    "result1 = re.search(r'NTHU(QF)?', 'NTHU')\n",
    "result2 = re.search(r'NTHU(QF)?', 'NTHUQF')\n",
    "result3 = re.search(r'NTHU(QF)?', 'NTHUECO')\n",
    "\n",
    "print(result1)\n",
    "print(result2)\n",
    "print(result3)\n",
    "\n"
   ]
  },
  {
   "cell_type": "code",
   "execution_count": 13,
   "metadata": {
    "ExecuteTime": {
     "end_time": "2020-05-06T09:43:23.104048Z",
     "start_time": "2020-05-06T09:43:23.098511Z"
    }
   },
   "outputs": [
    {
     "name": "stdout",
     "output_type": "stream",
     "text": [
      "None\n",
      "<re.Match object; span=(13, 14), match='I'>\n"
     ]
    }
   ],
   "source": [
    "string = '''\n",
    "A run to B.\n",
    "I run to A.\n",
    "'''\n",
    "\n",
    "print(re.search(r'^I', string))\n",
    "print(re.search(r'I', string, flags = re.M))"
   ]
  },
  {
   "cell_type": "code",
   "execution_count": 15,
   "metadata": {
    "ExecuteTime": {
     "end_time": "2020-05-06T09:44:52.021736Z",
     "start_time": "2020-05-06T09:44:52.015016Z"
    }
   },
   "outputs": [
    {
     "name": "stdout",
     "output_type": "stream",
     "text": [
      "None\n",
      "<re.Match object; span=(0, 11), match='abbbbbbbbbb'>\n"
     ]
    }
   ],
   "source": [
    "'''\n",
    "    指定次數\n",
    "'''\n",
    "\n",
    "print(re.search(r'ab{2,10}', 'a'))\n",
    "print(re.search(r'ab{2,10}', 'abbbbbbbbbbb'))\n"
   ]
  },
  {
   "cell_type": "code",
   "execution_count": 17,
   "metadata": {
    "ExecuteTime": {
     "end_time": "2020-05-06T09:47:20.198268Z",
     "start_time": "2020-05-06T09:47:20.189234Z"
    }
   },
   "outputs": [
    {
     "name": "stdout",
     "output_type": "stream",
     "text": [
      "123456, Date: 2020/04/21\n",
      "123456\n",
      "2020/04/21\n",
      "\n",
      "?P<name>\n",
      "123456, Date: 2020/04/21\n",
      "123456\n",
      "2020/04/21\n"
     ]
    }
   ],
   "source": [
    "result = re.search(r'(\\d+), Date: (.+)', 'ID: 123456, Date: 2020/04/21')\n",
    "print(result.group())\n",
    "print(result.group(1))\n",
    "print(result.group(2))\n",
    "\n",
    "print('\\n?P<name>')\n",
    "result = re.search(r'(?P<id>\\d+), Date: (?P<date>.+)', 'ID: 123456, Date: 2020/04/21')\n",
    "print(result.group())\n",
    "print(result.group('id'))\n",
    "print(result.group('date'))\n"
   ]
  },
  {
   "cell_type": "code",
   "execution_count": 19,
   "metadata": {
    "ExecuteTime": {
     "end_time": "2020-05-06T09:59:18.046135Z",
     "start_time": "2020-05-06T09:59:18.037744Z"
    }
   },
   "outputs": [
    {
     "name": "stdout",
     "output_type": "stream",
     "text": [
      "['run', 'ran']\n",
      "run ran run\n"
     ]
    }
   ],
   "source": [
    "string = 'run ran r3n'\n",
    "\n",
    "result = re.findall(r'(run|ran)', string)\n",
    "replace = re.sub(r'r[0-9]n', 'run', string)\n",
    "print(result)\n",
    "print(replace)"
   ]
  },
  {
   "cell_type": "code",
   "execution_count": 21,
   "metadata": {
    "ExecuteTime": {
     "end_time": "2020-05-06T11:49:19.556267Z",
     "start_time": "2020-05-06T11:49:19.551121Z"
    }
   },
   "outputs": [
    {
     "name": "stdout",
     "output_type": "stream",
     "text": [
      "['run', ' ran', 'r3n', 'r8n']\n"
     ]
    }
   ],
   "source": [
    "\n",
    "string = 'run, ran;r3n/r8n'\n",
    "\n",
    "print(re.split(r'[,;/]', string))"
   ]
  },
  {
   "cell_type": "code",
   "execution_count": 24,
   "metadata": {
    "ExecuteTime": {
     "end_time": "2020-05-06T11:52:47.948862Z",
     "start_time": "2020-05-06T11:52:47.939704Z"
    }
   },
   "outputs": [
    {
     "name": "stdout",
     "output_type": "stream",
     "text": [
      "<re.Match object; span=(4, 28), match='123465, Date: 2020/04/21'>\n",
      "<re.Match object; span=(4, 28), match='123465, Date: 2020/04/21'>\n",
      "\n",
      "match\n",
      "<re.Match object; span=(0, 7), match='run ran'>\n",
      "None\n",
      "None\n"
     ]
    }
   ],
   "source": [
    "result = re.search(r'(\\d+), Date: (.+)', 'ID: 123465, Date: 2020/04/21')\n",
    "\n",
    "print(result)\n",
    "\n",
    "compiled_re = re.compile(r'(\\d+), Date: (.+)')\n",
    "result = compiled_re.search('ID: 123465, Date: 2020/04/21')\n",
    "print(result)\n",
    "\n",
    "print('\\nmatch')\n",
    "string = 'run ran r3n'\n",
    "\n",
    "print(re.match(r'r.n r.n', string))\n",
    "print(re.match(r'ran r3n', string))\n",
    "print(re.match(r'r.n r.n$', string))\n"
   ]
  },
  {
   "cell_type": "code",
   "execution_count": null,
   "metadata": {},
   "outputs": [],
   "source": []
  }
 ],
 "metadata": {
  "kernelspec": {
   "display_name": "Python 3",
   "language": "python",
   "name": "python3"
  },
  "language_info": {
   "codemirror_mode": {
    "name": "ipython",
    "version": 3
   },
   "file_extension": ".py",
   "mimetype": "text/x-python",
   "name": "python",
   "nbconvert_exporter": "python",
   "pygments_lexer": "ipython3",
   "version": "3.7.4"
  },
  "nbTranslate": {
   "displayLangs": [
    "*"
   ],
   "hotkey": "alt-t",
   "langInMainMenu": true,
   "sourceLang": "en",
   "targetLang": "fr",
   "useGoogleTranslate": true
  },
  "toc": {
   "base_numbering": 1,
   "nav_menu": {},
   "number_sections": true,
   "sideBar": true,
   "skip_h1_title": false,
   "title_cell": "Table of Contents",
   "title_sidebar": "Contents",
   "toc_cell": false,
   "toc_position": {},
   "toc_section_display": true,
   "toc_window_display": false
  },
  "varInspector": {
   "cols": {
    "lenName": 16,
    "lenType": 16,
    "lenVar": 40
   },
   "kernels_config": {
    "python": {
     "delete_cmd_postfix": "",
     "delete_cmd_prefix": "del ",
     "library": "var_list.py",
     "varRefreshCmd": "print(var_dic_list())"
    },
    "r": {
     "delete_cmd_postfix": ") ",
     "delete_cmd_prefix": "rm(",
     "library": "var_list.r",
     "varRefreshCmd": "cat(var_dic_list()) "
    }
   },
   "types_to_exclude": [
    "module",
    "function",
    "builtin_function_or_method",
    "instance",
    "_Feature"
   ],
   "window_display": false
  }
 },
 "nbformat": 4,
 "nbformat_minor": 2
}
