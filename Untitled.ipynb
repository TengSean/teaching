{
 "cells": [
  {
   "cell_type": "code",
   "execution_count": null,
   "metadata": {
    "ExecuteTime": {
     "start_time": "2020-05-08T05:47:31.204Z"
    }
   },
   "outputs": [],
   "source": [
    "#!/usr/bin/env python3\n",
    "# -*- coding: utf-8 -*-\n",
    "\"\"\"\n",
    "Created on Mon Mar 23 23:42:37 2020\n",
    "\n",
    "@author: amanda\n",
    "\"\"\"\n",
    "\n",
    "import pandas as pd\n",
    "import os\n",
    "\n",
    "\n",
    "if __name__ == \"__main__\":\n",
    "    for y in range(102, 103):\n",
    "        for m in range(1, 13):\n",
    "            web_type_old = True\n",
    "            if y > 101 and m > 2:\n",
    "                web_type_old = False\n",
    "\n",
    "            folder = \"./data/\" + str(y) + str(m)\n",
    "            if not os.path.exists(folder):\n",
    "                os.makedirs(folder)\n",
    "\n",
    "            url = \"https://mops.twse.com.tw/nas/t21/sii/t21sc03_\" + \\\n",
    "                str(y) + \"_\" + str(m) + \"_0.html\"\n",
    "\n",
    "            if web_type_old:\n",
    "                html_df = pd.read_html(url, encoding=\"Big5\")\n",
    "            else:\n",
    "                html_df = pd.read_html(url)\n",
    "                #print(\"read as big 5\")\n",
    "\n",
    "            # print(html_df)\n",
    "            #c = input()\n",
    "            gap = 1\n",
    "            if web_type_old:\n",
    "                gap = 1\n",
    "            else:\n",
    "                gap = 2\n",
    "            if y == 102 and m == 1:\n",
    "                for i in range(1, len(html_df), gap):\n",
    "                    if \"產業別\" in html_df[i].keys()[0][0]:\n",
    "                        file_name = html_df[i].keys()[0][0]\n",
    "                        # print(file_name)\n",
    "                        #file_name = file_name.split(\"：\")[1]\n",
    "                        # print(file_name)\n",
    "                        keys = html_df[i + 1].keys()\n",
    "                        # print(keys)\n",
    "                        #c = input()\n",
    "                        col_name = []\n",
    "                        for j in range(0, len(keys)):\n",
    "                            col_name.append(keys[j][1])\n",
    "\n",
    "                        html_df[i + 1].columns = col_name\n",
    "                        html_df[i + 1].to_csv(os.path.join(folder, file_name +\n",
    "                                                           \".csv\"), encoding=\"utf-8-sig\", index=False)\n",
    "\n",
    "            for i in range(1, len(html_df), gap):\n",
    "                if \"產業別\" in html_df[i].keys()[0]:\n",
    "                    file_name = html_df[i].keys()[0].split(\" : \")[0]\n",
    "                    # print(html_df[i].keys()[0])\n",
    "                    keys = html_df[i + 1].keys()\n",
    "                    # print(keys)\n",
    "                    #c = input()\n",
    "                    col_name = []\n",
    "                    for j in range(0, len(keys)):\n",
    "                        col_name.append(keys[j][1])\n",
    "\n",
    "                    html_df[i + 1].columns = col_name\n",
    "                    html_df[i + 1].to_csv(os.path.join(folder, file_name +\n",
    "                                                       \".csv\"), encoding=\"utf-8-sig\", index=False)"
   ]
  },
  {
   "cell_type": "code",
   "execution_count": null,
   "metadata": {},
   "outputs": [],
   "source": []
  }
 ],
 "metadata": {
  "kernelspec": {
   "display_name": "Python 3",
   "language": "python",
   "name": "python3"
  },
  "language_info": {
   "codemirror_mode": {
    "name": "ipython",
    "version": 3
   },
   "file_extension": ".py",
   "mimetype": "text/x-python",
   "name": "python",
   "nbconvert_exporter": "python",
   "pygments_lexer": "ipython3",
   "version": "3.7.4"
  },
  "nbTranslate": {
   "displayLangs": [
    "*"
   ],
   "hotkey": "alt-t",
   "langInMainMenu": true,
   "sourceLang": "en",
   "targetLang": "fr",
   "useGoogleTranslate": true
  },
  "toc": {
   "base_numbering": 1,
   "nav_menu": {},
   "number_sections": true,
   "sideBar": true,
   "skip_h1_title": false,
   "title_cell": "Table of Contents",
   "title_sidebar": "Contents",
   "toc_cell": false,
   "toc_position": {},
   "toc_section_display": true,
   "toc_window_display": false
  },
  "varInspector": {
   "cols": {
    "lenName": 16,
    "lenType": 16,
    "lenVar": 40
   },
   "kernels_config": {
    "python": {
     "delete_cmd_postfix": "",
     "delete_cmd_prefix": "del ",
     "library": "var_list.py",
     "varRefreshCmd": "print(var_dic_list())"
    },
    "r": {
     "delete_cmd_postfix": ") ",
     "delete_cmd_prefix": "rm(",
     "library": "var_list.r",
     "varRefreshCmd": "cat(var_dic_list()) "
    }
   },
   "types_to_exclude": [
    "module",
    "function",
    "builtin_function_or_method",
    "instance",
    "_Feature"
   ],
   "window_display": false
  }
 },
 "nbformat": 4,
 "nbformat_minor": 2
}
