{
 "cells": [
  {
   "cell_type": "code",
   "execution_count": 49,
   "metadata": {
    "ExecuteTime": {
     "end_time": "2020-06-12T03:29:02.297226Z",
     "start_time": "2020-06-12T03:29:01.970902Z"
    }
   },
   "outputs": [],
   "source": [
    "from selenium.webdriver.chrome.options import Options\n",
    "from selenium import webdriver\n",
    "\n",
    "from selenium.webdriver.common.action_chains import ActionChains\n",
    "\n",
    "from bs4 import BeautifulSoup\n",
    "\n",
    "from selenium.webdriver.support.ui import Select\n",
    "import time\n",
    "\n",
    "import sys"
   ]
  },
  {
   "cell_type": "code",
   "execution_count": 5,
   "metadata": {
    "ExecuteTime": {
     "end_time": "2020-06-10T05:32:55.189895Z",
     "start_time": "2020-06-10T05:32:03.679967Z"
    }
   },
   "outputs": [
    {
     "data": {
      "text/plain": [
       "False"
      ]
     },
     "execution_count": 5,
     "metadata": {},
     "output_type": "execute_result"
    }
   ],
   "source": [
    "\n",
    "chrome_options = Options()\n",
    "chrome_options.add_argument(\"--headless\")       # define headless\n",
    "\n",
    "# add the option when creating driver\n",
    "# driver = webdriver.Chrome(chrome_options=chrome_options)\n",
    "driver = webdriver.Chrome()\n",
    "driver.get(\"https://www.railway.gov.tw/tra-tip-web/tip\")\n",
    "time.sleep(1)\n",
    "# driver.manage().timeouts().implicitly_Wait(10, TimeUnit.SECONDS);\n",
    "mouse = driver.find_element_by_xpath(\"//a[contains(text(), '旅客服務')]\")\n",
    "ActionChains(driver).move_to_element(mouse).perform()\n",
    "tmp = driver.find_element_by_xpath(u\"(//a[contains(text(),'列車時刻/車次查詢')])[2]\").click()\n",
    "# driver.find_element_by_xpath(u\"(//a[text()='列車時刻/車次查詢')])[2]\").click()\n",
    "# driver.manage().timeouts().implicitly_Wait(10, TimeUnit.SECONDS);\n",
    "driver.find_element_by_xpath(\"(//button[@type='button'])[594]\").click()\n",
    "driver.find_element_by_xpath(\"(//button[@type='button'])[7]\").click()\n",
    "driver.find_element_by_xpath(\"(//button[@type='button'])[142]\").click()\n",
    "driver.find_element_by_xpath(\"(//button[@type='button'])[597]\").click()\n",
    "driver.find_element_by_xpath(\"(//button[@type='button'])[16]\").click()\n",
    "driver.find_element_by_xpath(\"(//button[@type='button'])[111]\").click()\n",
    "driver.find_element_by_xpath(\"(//button[@type='button'])[599]\").click()\n",
    "driver.find_element_by_xpath(\"//th[3]\").click()\n",
    "driver.find_element_by_xpath(\"//tr[2]/td\").click()\n",
    "Select(driver.find_element_by_id(\"startTime\")).select_by_visible_text(\"10:00\")\n",
    "driver.find_element_by_id(\"startTime\").click()\n",
    "driver.find_element_by_name(\"query\").click()\n",
    "driver.find_element_by_xpath(\"//table[@class='itinerary-controls']\").text.strip().split('\\n')\n",
    "\n",
    "# html = driver.page_source           # get html\n",
    "# driver.get_screenshot_as_file(\"./img/sreenshot2.png\")\n",
    "# driver.close()\n"
   ]
  },
  {
   "cell_type": "code",
   "execution_count": 15,
   "metadata": {
    "ExecuteTime": {
     "end_time": "2020-06-10T05:52:03.759580Z",
     "start_time": "2020-06-10T05:52:03.472080Z"
    }
   },
   "outputs": [
    {
     "data": {
      "text/plain": [
       "['建議搭乘車次',\n",
       " '車種車次 (始發站 → 終點站) 出發時間 抵達時間 行駛時間 經由 詳細資訊 全票 孩童票 訂票',\n",
       " '自強115 ( 基隆 → 屏東 )',\n",
       " '10:13 13:57 3 小時 44 分 山線 詳細 $ 666 $ 333',\n",
       " '莒光511 ( 七堵 → 潮州 )',\n",
       " '10:45 15:45 5 小時 0 分 海線 詳細 $ 513 $ 257',\n",
       " '自強117 ( 基隆 → 潮州 )',\n",
       " '11:10 14:55 3 小時 45 分 山線 詳細 $ 666 $ 333',\n",
       " '自強121 ( 七堵 → 屏東 )',\n",
       " '12:10 15:57 3 小時 47 分 山線 詳細 $ 666 $ 333',\n",
       " '莒光513 ( 七堵 → 潮州 )',\n",
       " '12:49 18:16 5 小時 27 分 海線 詳細 $ 513 $ 257',\n",
       " '自強123 ( 七堵 → 屏東 )',\n",
       " '13:08 16:53 3 小時 45 分 山線 詳細 $ 666 $ 333',\n",
       " '自強125 ( 七堵 → 屏東 )',\n",
       " '14:11 17:54 3 小時 43 分 山線 詳細 $ 666 $ 333',\n",
       " '普悠瑪127 ( 南港 → 潮州 )',\n",
       " '14:21 17:06 2 小時 45 分 山線 詳細 $ 666 $ 333',\n",
       " '自強129 ( 基隆 → 枋寮 )',\n",
       " '15:10 18:46 3 小時 36 分 山線 詳細 $ 666 $ 333',\n",
       " '莒光561 ( 花蓮 → 潮州 )',\n",
       " '15:16 20:37 5 小時 21 分 海線 詳細 $ 513 $ 257',\n",
       " '自強135 ( 七堵 → 屏東 )',\n",
       " '16:10 19:54 3 小時 44 分 山線 詳細 $ 666 $ 333',\n",
       " '自強175 ( 花蓮 → 潮州 )',\n",
       " '17:10 20:58 3 小時 48 分 山線 詳細 $ 666 $ 333',\n",
       " '自強139 ( 七堵 → 潮州 )',\n",
       " '18:10 21:48 3 小時 38 分 山線 詳細 $ 666 $ 333',\n",
       " '自強141 ( 七堵 → 潮州 )',\n",
       " '18:41 22:26 3 小時 45 分 山線 詳細 $ 666 $ 333',\n",
       " '自強145 ( 七堵 → 潮州 )',\n",
       " '19:21 23:22 4 小時 1 分 海線 詳細 $ 666 $ 333',\n",
       " '自強149 ( 基隆 → 潮州 )',\n",
       " '20:10 23:53 3 小時 43 分 山線 詳細 $ 666 $ 333',\n",
       " '自強181 ( 花蓮 → 屏東 )',\n",
       " '20:40 00:18 3 小時 38 分 山線 詳細 $ 666 $ 333']"
      ]
     },
     "execution_count": 15,
     "metadata": {},
     "output_type": "execute_result"
    }
   ],
   "source": [
    "# driver.find_element_by_xpath(\"(//button[@type='button'])[599]\")\n"
   ]
  },
  {
   "cell_type": "code",
   "execution_count": 60,
   "metadata": {
    "ExecuteTime": {
     "end_time": "2020-06-12T03:30:52.828743Z",
     "start_time": "2020-06-12T03:30:52.805874Z"
    }
   },
   "outputs": [],
   "source": [
    "class User():\n",
    "    def __init__(self, name, id_num):\n",
    "        self.__name = name\n",
    "        self.__id_num = id_num\n",
    "\n",
    "    def get_name(self, ):\n",
    "        return self.__name\n",
    "    \n",
    "    def get_id_num(self, ):\n",
    "        return self.__id_num\n",
    "        \n",
    "        \n",
    "# class \n",
    "\n",
    "class BankAccount(User):\n",
    "    def __init__(self, name, id_num, password):\n",
    "        super().__init__(name, id_num)\n",
    "        self.__password = password\n",
    "        self.__balance = 0\n",
    "    def get_Password(self, ):\n",
    "        return self.__password\n",
    "    \n",
    "    def deposit(self, amount):\n",
    "        try:\n",
    "            if amount > 0:\n",
    "                self.__balance = self.__balance + amount\n",
    "                return 0\n",
    "            elif amount <= 0:\n",
    "                raise ValueError('Must greater than zero')\n",
    "        except ValueError as e:\n",
    "            print(repr(e))\n",
    "            return -1\n",
    "        \n",
    "    def withdraw(self, amount):\n",
    "        self.balance = self.balance - amount\n",
    "    \n",
    "    def get_Balance(self, ):\n",
    "        return self.balance\n",
    "    \n",
    "class TrainAccount(User):\n",
    "    def __init__(name, id_num, password):\n",
    "        super().__init__(name, id_num)\n",
    "        self.__password = password\n",
    "    \n",
    "    def get_Passowrd(self, ):\n",
    "        return self.__password\n",
    "    \n",
    "class TrainStationSchedule():\n",
    "    def __init__(self, ):\n",
    "        pass\n"
   ]
  },
  {
   "cell_type": "code",
   "execution_count": null,
   "metadata": {},
   "outputs": [],
   "source": [
    "'''\n",
    "    trainaccount handler\n",
    "    \n",
    "    \n",
    "    bankaccount handler\n",
    "\n",
    "'''\n",
    "\n",
    "\n",
    "class Transection():\n",
    "    def __init__(self, ):\n",
    "        pass\n",
    "    "
   ]
  },
  {
   "cell_type": "code",
   "execution_count": 72,
   "metadata": {
    "ExecuteTime": {
     "end_time": "2020-06-12T03:38:41.525659Z",
     "start_time": "2020-06-12T03:38:41.514705Z"
    }
   },
   "outputs": [],
   "source": [
    "class Option():\n",
    "    def __init__(self, ):\n",
    "#         pass\n",
    "        self.__choice = 0\n",
    "    def get_choice(self, mode = 'MAIN'):\n",
    "#         pass\n",
    "        msg = '''\n",
    "            Please select your choice( 0 to exit ):\n",
    "                1) a\n",
    "                2) b\n",
    "                3) c\n",
    "        '''\n",
    "        self.__choice = int(input(msg))\n",
    "        return self.__choice\n",
    "    def get_choice(self, ):\n",
    "        return self.__choice"
   ]
  },
  {
   "cell_type": "code",
   "execution_count": 61,
   "metadata": {
    "ExecuteTime": {
     "end_time": "2020-06-12T03:30:53.756624Z",
     "start_time": "2020-06-12T03:30:53.753478Z"
    }
   },
   "outputs": [],
   "source": [
    "ba = BankAccount('na', 'id', 'pw')"
   ]
  },
  {
   "cell_type": "code",
   "execution_count": 71,
   "metadata": {
    "ExecuteTime": {
     "end_time": "2020-06-12T03:37:50.234477Z",
     "start_time": "2020-06-12T03:37:47.216048Z"
    },
    "collapsed": true
   },
   "outputs": [
    {
     "name": "stdout",
     "output_type": "stream",
     "text": [
      "\n",
      "            Please select your choice( 0 to exit ):\n",
      "                1) a\n",
      "                2) b\n",
      "                3) c\n",
      "        1\n",
      "\n",
      "            Please select your choice( 0 to exit ):\n",
      "                1) a\n",
      "                2) b\n",
      "                3) c\n",
      "        1\n",
      "\n",
      "            Please select your choice( 0 to exit ):\n",
      "                1) a\n",
      "                2) b\n",
      "                3) c\n",
      "        0\n"
     ]
    }
   ],
   "source": [
    "\n",
    "option = Option()\n",
    "\n",
    "\n",
    "\n",
    "while option.get_choice():\n",
    "#     if option():\n",
    "#         pass\n",
    "#     elif option():\n",
    "#         pass\n",
    "#     else:\n",
    "#         pass\n",
    "    pass"
   ]
  },
  {
   "cell_type": "code",
   "execution_count": null,
   "metadata": {},
   "outputs": [],
   "source": []
  }
 ],
 "metadata": {
  "kernelspec": {
   "display_name": "Python 3",
   "language": "python",
   "name": "python3"
  },
  "language_info": {
   "codemirror_mode": {
    "name": "ipython",
    "version": 3
   },
   "file_extension": ".py",
   "mimetype": "text/x-python",
   "name": "python",
   "nbconvert_exporter": "python",
   "pygments_lexer": "ipython3",
   "version": "3.7.4"
  },
  "nbTranslate": {
   "displayLangs": [
    "*"
   ],
   "hotkey": "alt-t",
   "langInMainMenu": true,
   "sourceLang": "en",
   "targetLang": "fr",
   "useGoogleTranslate": true
  },
  "toc": {
   "base_numbering": 1,
   "nav_menu": {},
   "number_sections": true,
   "sideBar": true,
   "skip_h1_title": false,
   "title_cell": "Table of Contents",
   "title_sidebar": "Contents",
   "toc_cell": false,
   "toc_position": {},
   "toc_section_display": true,
   "toc_window_display": false
  },
  "varInspector": {
   "cols": {
    "lenName": 16,
    "lenType": 16,
    "lenVar": 40
   },
   "kernels_config": {
    "python": {
     "delete_cmd_postfix": "",
     "delete_cmd_prefix": "del ",
     "library": "var_list.py",
     "varRefreshCmd": "print(var_dic_list())"
    },
    "r": {
     "delete_cmd_postfix": ") ",
     "delete_cmd_prefix": "rm(",
     "library": "var_list.r",
     "varRefreshCmd": "cat(var_dic_list()) "
    }
   },
   "types_to_exclude": [
    "module",
    "function",
    "builtin_function_or_method",
    "instance",
    "_Feature"
   ],
   "window_display": false
  }
 },
 "nbformat": 4,
 "nbformat_minor": 2
}
