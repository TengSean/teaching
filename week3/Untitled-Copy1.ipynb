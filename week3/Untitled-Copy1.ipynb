{
 "cells": [
  {
   "cell_type": "code",
   "execution_count": 41,
   "metadata": {
    "ExecuteTime": {
     "end_time": "2020-04-24T11:36:49.700619Z",
     "start_time": "2020-04-24T11:36:43.713696Z"
    }
   },
   "outputs": [
    {
     "name": "stdout",
     "output_type": "stream",
     "text": [
      "Please enter the floor: 0\n",
      "Please enter the ceiling: 10\n",
      "The answer between 0 and 10\n",
      "Guess a number: 5\n",
      "The answer between 0 and 5\n",
      "Guess a number: 2\n",
      "The answer between 0 and 2\n",
      "Guess a number: 1\n",
      "Boom\n"
     ]
    }
   ],
   "source": [
    "import random\n",
    "\n",
    "floor = int(input('Please enter the floor: '))\n",
    "ceiling = int(input('Please enter the ceiling: '))\n",
    "ans = random.randint(int(floor), int(ceiling))\n",
    "# print(ans)\n",
    "a = _\n",
    "while( 沒猜中 )\n",
    "    print('The answer between {} and {}'.format(floor, ceiling))\n",
    "    a = int(input('Guess a number: '))\n",
    "    if ''' 你猜的太小 '''\n",
    "        ceiling = a\n",
    "    elif ''' 你猜的太小 '''\n",
    "        floor = a\n",
    "\n",
    "print('Boom')"
   ]
  },
  {
   "cell_type": "code",
   "execution_count": null,
   "metadata": {},
   "outputs": [],
   "source": []
  },
  {
   "cell_type": "code",
   "execution_count": null,
   "metadata": {},
   "outputs": [],
   "source": []
  }
 ],
 "metadata": {
  "kernelspec": {
   "display_name": "Python 3",
   "language": "python",
   "name": "python3"
  },
  "language_info": {
   "codemirror_mode": {
    "name": "ipython",
    "version": 3
   },
   "file_extension": ".py",
   "mimetype": "text/x-python",
   "name": "python",
   "nbconvert_exporter": "python",
   "pygments_lexer": "ipython3",
   "version": "3.7.4"
  },
  "nbTranslate": {
   "displayLangs": [
    "*"
   ],
   "hotkey": "alt-t",
   "langInMainMenu": true,
   "sourceLang": "en",
   "targetLang": "fr",
   "useGoogleTranslate": true
  },
  "toc": {
   "base_numbering": 1,
   "nav_menu": {},
   "number_sections": true,
   "sideBar": true,
   "skip_h1_title": false,
   "title_cell": "Table of Contents",
   "title_sidebar": "Contents",
   "toc_cell": false,
   "toc_position": {},
   "toc_section_display": true,
   "toc_window_display": false
  },
  "varInspector": {
   "cols": {
    "lenName": 16,
    "lenType": 16,
    "lenVar": 40
   },
   "kernels_config": {
    "python": {
     "delete_cmd_postfix": "",
     "delete_cmd_prefix": "del ",
     "library": "var_list.py",
     "varRefreshCmd": "print(var_dic_list())"
    },
    "r": {
     "delete_cmd_postfix": ") ",
     "delete_cmd_prefix": "rm(",
     "library": "var_list.r",
     "varRefreshCmd": "cat(var_dic_list()) "
    }
   },
   "types_to_exclude": [
    "module",
    "function",
    "builtin_function_or_method",
    "instance",
    "_Feature"
   ],
   "window_display": false
  }
 },
 "nbformat": 4,
 "nbformat_minor": 2
}
