{
 "cells": [
  {
   "cell_type": "code",
   "execution_count": 20,
   "metadata": {
    "ExecuteTime": {
     "end_time": "2020-06-06T17:44:20.450127Z",
     "start_time": "2020-06-06T17:44:20.442970Z"
    }
   },
   "outputs": [],
   "source": [
    "import smtplib\n",
    "from email.mime.multipart import MIMEMultipart\n",
    "from email.mime.text import MIMEText\n",
    "from email.mime.base import MIMEBase\n",
    "from email import encoders\n",
    "import datetime\n",
    "import ssl\n",
    "\n",
    "import os\n"
   ]
  },
  {
   "cell_type": "code",
   "execution_count": 21,
   "metadata": {
    "ExecuteTime": {
     "end_time": "2020-06-06T17:44:20.677966Z",
     "start_time": "2020-06-06T17:44:20.670712Z"
    }
   },
   "outputs": [],
   "source": [
    "class User():\n",
    "    def __init__(self, address, password):\n",
    "        self.address = address\n",
    "        self.password = password\n",
    "    # 設定發送方的 address password    \n",
    "    def set_user(self, address, password):\n",
    "        self.user = address\n",
    "        self.password=password\n",
    "    \n",
    "    # 取得address\n",
    "    def get_address(self, ):\n",
    "        return self.address\n",
    "\n",
    "    # 取得password\n",
    "    def get_password(self, ):\n",
    "        return self.password"
   ]
  },
  {
   "cell_type": "code",
   "execution_count": 29,
   "metadata": {
    "ExecuteTime": {
     "end_time": "2020-06-06T17:46:02.258934Z",
     "start_time": "2020-06-06T17:46:02.241363Z"
    }
   },
   "outputs": [],
   "source": [
    "class send_Mail():\n",
    "    def __init__(self, address=None, password=None):\n",
    "        self.user=User(address, password)\n",
    "        self.mail = MIMEMultipart()\n",
    "        self.to_address = []\n",
    "        self.subject = 'Sending email testing'\n",
    "        self.contents = '''\n",
    "                This is a demo message.\n",
    "                        '''\n",
    "        self.attachment = []\n",
    "    # 當你已經準備要發送信件就呼叫這個function\n",
    "    # 發送前請確定contents subject已經做完更動 否則會以default為主\n",
    "    # 參數為接收方的address(list)\n",
    "    def send(self, address):\n",
    "        self.__set_mail(address)\n",
    "        self.__set_attach()\n",
    "        smtpserver = smtplib.SMTP_SSL('smtp.gmail.com', 465)\n",
    "        smtpserver.ehlo()\n",
    "        smtpserver.login(self.user.get_address(), self.user.get_password())\n",
    "        smtpserver.sendmail(self.user.get_address(), self.to_address, self.mail.as_string())\n",
    "        smtpserver.quit()\n",
    "    # mail object setting\n",
    "    def __set_mail(self, address):\n",
    "        self.to_address.extend(address)\n",
    "        print(self.attachment)\n",
    "        self.mail['From'] = self.user.get_address()\n",
    "        self.mail['To'] = ', '.join(self.to_address)\n",
    "        self.mail['Subject'] = self.subject\n",
    "        self.mail.attach(MIMEText(self.contents))\n",
    "    # attachment setting\n",
    "    def __set_attach(self, ):\n",
    "        if not len(self.attachment) == 0:\n",
    "            for file in self.attachment:\n",
    "                with open(file, 'rb') as f:\n",
    "                    add_file = MIMEBase('application', 'octet-stream')\n",
    "                    add_file.set_payload(f.read())\n",
    "            encoders.encode_base64(add_file)\n",
    "            add_file.add_header('Content-Disposition', 'attachment', filename = 'demo.txt')\n",
    "            self.mail.attach(add_file)\n",
    "    # 更改附件\n",
    "    # 參數為 list\n",
    "    def set_attach(self, file_list):\n",
    "        self.attachment.extend(file_list)\n",
    "    # 更改標題\n",
    "    # 參數為 str\n",
    "    def set_subject(self, subject):\n",
    "        self.subject = subject\n",
    "    # 更改信件內容\n",
    "    # 參數為 str\n",
    "    def set_contents(self, content):\n",
    "        self.contents = content\n",
    "    # 更改發送方的mail\n",
    "    # 參數為 str, str\n",
    "    def change_user(self, address, password):\n",
    "        self.user.set_user(addressm, password)\n",
    "        "
   ]
  },
  {
   "cell_type": "code",
   "execution_count": 30,
   "metadata": {
    "ExecuteTime": {
     "end_time": "2020-06-06T17:46:05.665131Z",
     "start_time": "2020-06-06T17:46:02.918531Z"
    }
   },
   "outputs": [
    {
     "name": "stdout",
     "output_type": "stream",
     "text": [
      "['./text.txt', './text.txt']\n"
     ]
    }
   ],
   "source": [
    "send_mail = send_Mail('e125040121@gmail.com', '14251425')\n",
    "send_mail.set_subject('This is Notification')\n",
    "send_mail.set_contents('Hello kitty')\n",
    "send_mail.set_attach(['./text.txt',])\n",
    "send_mail.send(['e125040121@gmail.com'])"
   ]
  },
  {
   "cell_type": "code",
   "execution_count": 5,
   "metadata": {
    "ExecuteTime": {
     "end_time": "2020-06-06T14:37:50.337627Z",
     "start_time": "2020-06-06T14:37:50.330065Z"
    }
   },
   "outputs": [],
   "source": [
    "gmail_user = 'e125040121@gmail.com'\n",
    "gmail_password = '14251425'\n",
    "from_address = gmail_user\n",
    "\n",
    "to_address = ['e125040121@gmail.com']\n",
    "subject = 'Sending email testing'\n",
    "contents = '''\n",
    "\n",
    "This is a demo message.\n",
    "\n",
    "'''\n"
   ]
  },
  {
   "cell_type": "code",
   "execution_count": 6,
   "metadata": {
    "ExecuteTime": {
     "end_time": "2020-06-06T14:37:50.934461Z",
     "start_time": "2020-06-06T14:37:50.926738Z"
    }
   },
   "outputs": [],
   "source": [
    "attachment = ['./text.txt']\n",
    "\n",
    "mail = MIMEMultipart()\n",
    "mail['From'] = from_address\n",
    "mail['To'] = ', '.join(to_address)\n",
    "mail['Subject'] = subject\n",
    "mail.attach(MIMEText(contents))"
   ]
  },
  {
   "cell_type": "code",
   "execution_count": 7,
   "metadata": {
    "ExecuteTime": {
     "end_time": "2020-06-06T14:37:54.525205Z",
     "start_time": "2020-06-06T14:37:51.307751Z"
    }
   },
   "outputs": [
    {
     "data": {
      "text/plain": [
       "(221, b'2.0.0 closing connection 9sm10705425pju.1 - gsmtp')"
      ]
     },
     "execution_count": 7,
     "metadata": {},
     "output_type": "execute_result"
    }
   ],
   "source": [
    "for file in attachment:\n",
    "    with open(file, 'rb') as f:\n",
    "        add_file = MIMEBase('application', 'octet-stream')\n",
    "        add_file.set_payload(f.read())\n",
    "    encoders.encode_base64(add_file)\n",
    "    add_file.add_header('Content-Disposition', 'attachment', filename = 'demo.txt')\n",
    "    mail.attach(add_file)\n",
    "\n",
    "    \n",
    "smtpserver = smtplib.SMTP_SSL('smtp.gmail.com', 465)\n",
    "smtpserver.ehlo()\n",
    "smtpserver.login(gmail_user, gmail_password)\n",
    "smtpserver.sendmail(from_address, to_address, mail.as_string())\n",
    "smtpserver.quit()\n",
    "\n",
    "    "
   ]
  },
  {
   "cell_type": "code",
   "execution_count": null,
   "metadata": {},
   "outputs": [],
   "source": []
  }
 ],
 "metadata": {
  "kernelspec": {
   "display_name": "Python 3",
   "language": "python",
   "name": "python3"
  },
  "language_info": {
   "codemirror_mode": {
    "name": "ipython",
    "version": 3
   },
   "file_extension": ".py",
   "mimetype": "text/x-python",
   "name": "python",
   "nbconvert_exporter": "python",
   "pygments_lexer": "ipython3",
   "version": "3.7.4"
  },
  "nbTranslate": {
   "displayLangs": [
    "*"
   ],
   "hotkey": "alt-t",
   "langInMainMenu": true,
   "sourceLang": "en",
   "targetLang": "fr",
   "useGoogleTranslate": true
  },
  "toc": {
   "base_numbering": 1,
   "nav_menu": {},
   "number_sections": true,
   "sideBar": true,
   "skip_h1_title": false,
   "title_cell": "Table of Contents",
   "title_sidebar": "Contents",
   "toc_cell": false,
   "toc_position": {},
   "toc_section_display": true,
   "toc_window_display": false
  },
  "varInspector": {
   "cols": {
    "lenName": 16,
    "lenType": 16,
    "lenVar": 40
   },
   "kernels_config": {
    "python": {
     "delete_cmd_postfix": "",
     "delete_cmd_prefix": "del ",
     "library": "var_list.py",
     "varRefreshCmd": "print(var_dic_list())"
    },
    "r": {
     "delete_cmd_postfix": ") ",
     "delete_cmd_prefix": "rm(",
     "library": "var_list.r",
     "varRefreshCmd": "cat(var_dic_list()) "
    }
   },
   "types_to_exclude": [
    "module",
    "function",
    "builtin_function_or_method",
    "instance",
    "_Feature"
   ],
   "window_display": false
  }
 },
 "nbformat": 4,
 "nbformat_minor": 2
}
