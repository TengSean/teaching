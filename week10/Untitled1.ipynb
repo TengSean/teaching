{
 "cells": [
  {
   "cell_type": "code",
   "execution_count": 1,
   "metadata": {
    "ExecuteTime": {
     "end_time": "2020-06-06T15:56:31.290269Z",
     "start_time": "2020-06-06T15:56:31.273337Z"
    }
   },
   "outputs": [],
   "source": [
    "import smtplib\n",
    "from email.mime.multipart import MIMEMultipart\n",
    "from email.mime.text import MIMEText\n",
    "from email.mime.base import MIMEBase\n",
    "from email import encoders\n",
    "import datetime\n",
    "import ssl\n",
    "\n",
    "import os"
   ]
  },
  {
   "cell_type": "code",
   "execution_count": 2,
   "metadata": {
    "ExecuteTime": {
     "end_time": "2020-06-06T15:56:37.773018Z",
     "start_time": "2020-06-06T15:56:37.763724Z"
    }
   },
   "outputs": [],
   "source": [
    "class User():\n",
    "    def __init__(self, address, password):\n",
    "        self.address = address\n",
    "        self.password = password\n",
    "        \n",
    "        pass\n",
    "    def set_user(self, address, password):\n",
    "        self.user = address\n",
    "        self.password=password\n",
    "        \n",
    "    def get_address(self, ):\n",
    "        return self.address\n",
    "    def get_password(self, ):\n",
    "        return self.password\n",
    "    "
   ]
  },
  {
   "cell_type": "code",
   "execution_count": 3,
   "metadata": {
    "ExecuteTime": {
     "end_time": "2020-06-06T15:56:44.798147Z",
     "start_time": "2020-06-06T15:56:44.778539Z"
    }
   },
   "outputs": [],
   "source": [
    "class send_Mail():\n",
    "    def __init__(self, address=None, password=None):\n",
    "        self.user=User(address, password)\n",
    "        self.mail = MIMEMultipart()\n",
    "        self.to_address = ['e125040121@gmail.com']\n",
    "        self.subject = 'Sending email testing'\n",
    "        self.contents = '''\n",
    "                This is a demo message.\n",
    "                        '''\n",
    "        self.attachment = []\n",
    "    def send(self, info_dict):\n",
    "        self.__set_mail()\n",
    "        self.__set_attach()\n",
    "        smtpserver = smtplib.SMTP_SSL('smtp.gmail.com', 465)\n",
    "        smtpserver.ehlo()\n",
    "        smtpserver.login(self.user.get_address(), self.user.get_password())\n",
    "        smtpserver.sendmail(self.user.get_address(), self.to_address, self.mail.as_string())\n",
    "        smtpserver.quit()\n",
    "        \n",
    "    def __set_mail(self, ):\n",
    "        self.mail['From'] = self.user.get_address()\n",
    "        self.mail['To'] = ', '.join(self.to_address)\n",
    "        self.mail['Subject'] = self.subject\n",
    "        self.mail.attach(MIMEText(self.contents))\n",
    "        \n",
    "    def __set_attach(self, ):\n",
    "        if not len(self.attachment) == 0:\n",
    "            for file in self.attachment:\n",
    "                with open(file, 'rb') as f:\n",
    "                    add_file = MIMEBase('application', 'octet-stream')\n",
    "                    add_file.set_payload(f.read())\n",
    "            encoders.encode_base64(add_file)\n",
    "            add_file.add_header('Content-Disposition', 'attachment', filename = 'demo.txt')\n",
    "            self.mail.attach(add_file)\n",
    "        \n",
    "    def set_attach(self, file_list):\n",
    "        self.attach.extend(file_list)\n",
    "        \n",
    "    def set_subject(self, subject):\n",
    "        self.subject = subject\n",
    "\n",
    "    def set_content(self, content):\n",
    "        self.content = content\n",
    "        \n",
    "    def change_user(self, address, password):\n",
    "        self.user.set_user(addressm, password)\n",
    "        "
   ]
  },
  {
   "cell_type": "code",
   "execution_count": null,
   "metadata": {},
   "outputs": [],
   "source": [
    "send_mail = send_Mail('address@gmail.com', 'password')\n",
    "send_mail.send('address@gmail.com')"
   ]
  }
 ],
 "metadata": {
  "kernelspec": {
   "display_name": "Python 3",
   "language": "python",
   "name": "python3"
  },
  "language_info": {
   "codemirror_mode": {
    "name": "ipython",
    "version": 3
   },
   "file_extension": ".py",
   "mimetype": "text/x-python",
   "name": "python",
   "nbconvert_exporter": "python",
   "pygments_lexer": "ipython3",
   "version": "3.7.4"
  },
  "nbTranslate": {
   "displayLangs": [
    "*"
   ],
   "hotkey": "alt-t",
   "langInMainMenu": true,
   "sourceLang": "en",
   "targetLang": "fr",
   "useGoogleTranslate": true
  },
  "toc": {
   "base_numbering": 1,
   "nav_menu": {},
   "number_sections": true,
   "sideBar": true,
   "skip_h1_title": false,
   "title_cell": "Table of Contents",
   "title_sidebar": "Contents",
   "toc_cell": false,
   "toc_position": {},
   "toc_section_display": true,
   "toc_window_display": false
  },
  "varInspector": {
   "cols": {
    "lenName": 16,
    "lenType": 16,
    "lenVar": 40
   },
   "kernels_config": {
    "python": {
     "delete_cmd_postfix": "",
     "delete_cmd_prefix": "del ",
     "library": "var_list.py",
     "varRefreshCmd": "print(var_dic_list())"
    },
    "r": {
     "delete_cmd_postfix": ") ",
     "delete_cmd_prefix": "rm(",
     "library": "var_list.r",
     "varRefreshCmd": "cat(var_dic_list()) "
    }
   },
   "types_to_exclude": [
    "module",
    "function",
    "builtin_function_or_method",
    "instance",
    "_Feature"
   ],
   "window_display": false
  }
 },
 "nbformat": 4,
 "nbformat_minor": 2
}
