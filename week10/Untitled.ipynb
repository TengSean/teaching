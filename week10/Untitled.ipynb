{
 "cells": [
  {
   "cell_type": "code",
   "execution_count": null,
   "metadata": {},
   "outputs": [],
   "source": [
    "from selenium.webdriver.chrome.options import Options\n",
    "from selenium import webdriver\n",
    "\n",
    "from bs4 import BeautifulSoup\n",
    "\n",
    "from selenium.webdriver.support.ui import Select\n",
    "import time\n",
    "import numpy as np\n",
    "import pandas as pd\n",
    "\n",
    "def crawler(ticker, sd, ed):\n",
    "    sdList = sd.split('-')\n",
    "    \n",
    "    edList = ed.split('-')\n",
    "    \n",
    "    sdList[0] = int(sdList[0]) - 1911\n",
    "    \n",
    "    edList[0] = int(edList[0]) - 1911\n",
    "    \n",
    "    sdList[0], edList[0] = str(sdList[0]), str(edList[0])\n",
    "    \n",
    "    sd = ''.join(sdList)\n",
    "    ed = ''.join(edList)\n",
    "    \n",
    "    dateList = []\n",
    "    chrome_options = Options()\n",
    "    chrome_options.add_argument(\"--headless\")       # define headless\n",
    "\n",
    "    # add the option when creating driver\n",
    "    driver = webdriver.Chrome(chrome_options=chrome_options)\n",
    "#     driver = webdriver.Chrome()\n",
    "\n",
    "    driver.get(\"https://mops.twse.com.tw/mops/web/STAMAK03_1\")\n",
    "    # time.sleep(1)\n",
    "    driver.find_element_by_id(\"co_id\").click()\n",
    "    driver.find_element_by_id(\"co_id\").clear()\n",
    "    driver.find_element_by_id(\"co_id\").send_keys(ticker)\n",
    "    driver.find_element_by_id(\"b_date\").click()\n",
    "    driver.find_element_by_id(\"b_date\").clear()\n",
    "    driver.find_element_by_id(\"b_date\").send_keys(sd)\n",
    "    driver.find_element_by_id(\"e_date\").click()\n",
    "    driver.find_element_by_id(\"e_date\").clear()\n",
    "    driver.find_element_by_id(\"e_date\").send_keys(ed)\n",
    "    time.sleep(0.5)\n",
    "    driver.find_element_by_id(\"nav02\").click()\n",
    "    driver.find_element_by_xpath(u\"//input[@value=' 查詢 ']\").click()\n",
    "    time.sleep(3)\n",
    "    driver.find_element_by_xpath(u\"//img[@alt='開新視窗']\").click()\n",
    "\n",
    "    html = driver.page_source\n",
    "\n",
    "    bs4 = BeautifulSoup(html)\n",
    "\n",
    "    table = bs4.find_all('table', {'class':'hasBorder'})\n",
    "    if len(table) == 0:\n",
    "        print('There are no data.')\n",
    "        return dateList, []\n",
    "    table = table[0].find_all('td')\n",
    "    tmpList = list()\n",
    "    dataNP = []\n",
    "    for i, t in enumerate(table):\n",
    "        tmpList.append(t.text)\n",
    "        if i % 11 == 10 and i == 10:\n",
    "            dataNP = tmpList\n",
    "            tmpList = list()\n",
    "        elif i % 11 == 10:\n",
    "            tmpList = np.array(tmpList)[None,:]\n",
    "            dataNP = np.vstack((dataNP, tmpList))\n",
    "            tmpList = list()\n",
    "    df = pd.DataFrame(dataNP)\n",
    "    colName = ['公司代號',\t'公司名稱',\t'設質人身份別',\t'設質人姓名',\t'質設異動發生日期',\t'設質股數',\t'解質股數',\t'累積質設股數',\t'質權人姓名',\t'備註',\t'申報日期']\n",
    "    df.columns = colName\n",
    "    df = df.drop(columns=['公司代號', '公司名稱', '備註'])\n",
    "#     display(df)\n",
    "#     print(df.loc[df['解質股數'] !=0])\n",
    "    return dateList, df"
   ]
  },
  {
   "cell_type": "code",
   "execution_count": null,
   "metadata": {},
   "outputs": [],
   "source": [
    "a = input('aa')"
   ]
  }
 ],
 "metadata": {
  "kernelspec": {
   "display_name": "Python 3",
   "language": "python",
   "name": "python3"
  },
  "language_info": {
   "codemirror_mode": {
    "name": "ipython",
    "version": 3
   },
   "file_extension": ".py",
   "mimetype": "text/x-python",
   "name": "python",
   "nbconvert_exporter": "python",
   "pygments_lexer": "ipython3",
   "version": "3.7.4"
  },
  "nbTranslate": {
   "displayLangs": [
    "*"
   ],
   "hotkey": "alt-t",
   "langInMainMenu": true,
   "sourceLang": "en",
   "targetLang": "fr",
   "useGoogleTranslate": true
  },
  "toc": {
   "base_numbering": 1,
   "nav_menu": {},
   "number_sections": true,
   "sideBar": true,
   "skip_h1_title": false,
   "title_cell": "Table of Contents",
   "title_sidebar": "Contents",
   "toc_cell": false,
   "toc_position": {},
   "toc_section_display": true,
   "toc_window_display": false
  },
  "varInspector": {
   "cols": {
    "lenName": 16,
    "lenType": 16,
    "lenVar": 40
   },
   "kernels_config": {
    "python": {
     "delete_cmd_postfix": "",
     "delete_cmd_prefix": "del ",
     "library": "var_list.py",
     "varRefreshCmd": "print(var_dic_list())"
    },
    "r": {
     "delete_cmd_postfix": ") ",
     "delete_cmd_prefix": "rm(",
     "library": "var_list.r",
     "varRefreshCmd": "cat(var_dic_list()) "
    }
   },
   "types_to_exclude": [
    "module",
    "function",
    "builtin_function_or_method",
    "instance",
    "_Feature"
   ],
   "window_display": false
  }
 },
 "nbformat": 4,
 "nbformat_minor": 2
}
